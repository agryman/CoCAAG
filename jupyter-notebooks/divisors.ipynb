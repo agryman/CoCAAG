{
 "cells": [
  {
   "cell_type": "markdown",
   "id": "a04f75d6-6b74-4891-8ef2-f1b3c4773f2d",
   "metadata": {},
   "source": [
    "# Divisors on projective varieties"
   ]
  },
  {
   "cell_type": "markdown",
   "id": "c8e0e05e-9c7d-4c3e-ba91-984a047538b2",
   "metadata": {},
   "source": [
    "In this notebook, we describe one way to represent divisors on a smooth\n",
    "projective variety $X \\subset \\mathbb{P}^n$,\n",
    "\n",
    "  \n",
    "We also construct the $X$."
   ]
  },
  {
   "cell_type": "markdown",
   "id": "af63deba-b465-48a4-9e58-37dc25503889",
   "metadata": {
    "editable": true,
    "slideshow": {
     "slide_type": ""
    },
    "tags": []
   },
   "source": [
    "We consider smooth varieties only, although most of this \n",
    "can be extended to normal varieties."
   ]
  },
  {
   "cell_type": "markdown",
   "id": "efc82c3b-29dd-4d71-b87b-cf4ec9042bbf",
   "metadata": {},
   "source": [
    "## Representation of divisors"
   ]
  },
  {
   "cell_type": "markdown",
   "id": "ad50d896-4b39-4f6d-8027-a2dd765fafcd",
   "metadata": {},
   "source": [
    "Let $X$ be a smooth irreducible variety.  A (Weil) divisor on $X$ is an\n",
    "integral linear combination of irreducible subvarieties of $X$ of \n",
    "codimension 1. The divisor is called **effective** if all the \n",
    "coefficients are non-negative.\n",
    "\n",
    "To any ideal $I$ in the homogeneous coordinate ring $S_X = S/I_X$ of $X$, \n",
    "we associate the effective divisor that is the sum of the pure codimension\n",
    "one components of $I$, each taken with the multiplicity it has in the\n",
    "primary decomposition if $I$."
   ]
  },
  {
   "cell_type": "markdown",
   "id": "22cae31a-a333-4f0c-8563-fdf2d5e2927c",
   "metadata": {},
   "source": [
    "Let $D = E - F$ be a divisor, where $E$ and $F$ are effective.  Because\n",
    "$X$ is normal, there is a unique homogeneous ideal $I$ in $S_X$\n",
    "such that $\\mathbb{V}(I) = E$, and either $I = (1),$ or $I$ has pure\n",
    "codimension one.  Similarly, there is a unique such ideal $J$ with \n",
    "$\\mathbb{V}(J) = F$.  Our plan is to represent the divisor $D$ by \n",
    "the pair of ideals $(I, J)$.\n",
    "\n",
    "An alternate way would be to decompose the ideals $I$ and $J$ directly,\n",
    "over the base field, but for now we don't do that."
   ]
  },
  {
   "cell_type": "markdown",
   "id": "1cc8579b-7c2c-4f4b-ae2f-9edd270c013a",
   "metadata": {},
   "source": [
    "This representation is not unique.  If $(I, J)$ and $(I', J')$ are two\n",
    "pairs of ideals (such that either is $(1)$ or has pure codimension one),\n",
    "then $(I,J)$ and $(I', J')$ represent the same divisor if and only if\n",
    "  $$ \\operatorname{sat}(IJ') = \\operatorname{sat}(I'J),$$\n",
    "where $\\operatorname{sat}(K)$ is the saturation of $K$ (the largest\n",
    "ideal $L$ such that a power of the irrelevant ideal times $L$ is in $K$).\n",
    "Write $(I, J) \\equiv (I', J')$ if $\\operatorname{sat}(IJ') = \\operatorname{sat}(I'J)$."
   ]
  },
  {
   "cell_type": "markdown",
   "id": "0a561632-d898-4b20-8880-74ad8a51cae4",
   "metadata": {},
   "source": [
    "This correspondence defines a bijection between $\\operatorname{Div}(X)$\n",
    "and $\\{ (I, J) \\mid \\text{ $I$ and $J$ are either $(1)$ or pure codimension \n",
    "one}\\}/\\equiv$"
   ]
  },
  {
   "cell_type": "code",
   "execution_count": null,
   "id": "8350a583-d186-4a72-9344-02a1602b36d3",
   "metadata": {},
   "outputs": [],
   "source": []
  },
  {
   "cell_type": "code",
   "execution_count": null,
   "id": "205c64f5-c620-4085-a3b2-9e453191c22c",
   "metadata": {},
   "outputs": [],
   "source": []
  },
  {
   "cell_type": "code",
   "execution_count": null,
   "id": "1e783232-7533-458c-86d3-e9e084a2850e",
   "metadata": {},
   "outputs": [],
   "source": []
  },
  {
   "cell_type": "markdown",
   "id": "ee220e2c-79e6-4d98-bd8b-0aa55398ad72",
   "metadata": {},
   "source": [
    "## Some definitions and basic aspects"
   ]
  },
  {
   "cell_type": "markdown",
   "id": "d2aea890-d48f-450e-a540-a1571cab92f4",
   "metadata": {
    "editable": true,
    "slideshow": {
     "slide_type": ""
    },
    "tags": []
   },
   "source": [
    "Let $X \\subset \\mathbb{P}^n$ be a projective variety,\n",
    "\n",
    "*Definitions.* \n",
    "1. A **prime (Weil) divisor** is an irreducible codimension one subvariety of $X$.\n",
    "2. A **(Weil) divisor** on $X$ is a finite $\\mathbb{Z}$-linear combination\n",
    "  of prime divisors.\n",
    "3. **Div(X)** is the free Abelian group on the set of prime divisors.\n",
    "\n",
    "If $D$ is a prime divisor on $X$, with ideal $J \\subset R = S/I$, we let\n",
    "1. $\\mathcal{O}_X(-D) := \\widetilde{J}$.\n",
    "2. $\\mathcal{O}_X(D) := \\mathcal{O}_X(-D)^{-1} := \\widetilde{\\operatorname{Hom}_R(J, R)}$.\n",
    "\n",
    "If $D = \\sum_i a_i D_i$, then we set $\\mathcal{O}_X(D) := \\bigotimes_{i} \\mathcal{O}_X(D_i)^{\\otimes a_i}$\n",
    "   "
   ]
  },
  {
   "cell_type": "code",
   "execution_count": null,
   "id": "66fcf5ac-a91a-47bf-bd4b-549e5f07fd95",
   "metadata": {},
   "outputs": [],
   "source": []
  },
  {
   "cell_type": "code",
   "execution_count": null,
   "id": "56c503e0-b416-4d12-a7a2-0344c5cfd1c3",
   "metadata": {},
   "outputs": [],
   "source": []
  }
 ],
 "metadata": {
  "kernelspec": {
   "display_name": "M2",
   "language": "text/x-macaulay2",
   "name": "m2"
  },
  "language_info": {
   "codemirror_mode": "macaulay2",
   "file_extension": ".m2",
   "mimetype": "text/x-macaulay2",
   "name": "Macaulay2"
  }
 },
 "nbformat": 4,
 "nbformat_minor": 5
}
