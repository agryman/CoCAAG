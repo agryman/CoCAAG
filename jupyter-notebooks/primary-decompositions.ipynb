{
 "cells": [
  {
   "cell_type": "markdown",
   "id": "8d8e2437-cf99-4e21-9c68-9601495e4654",
   "metadata": {},
   "source": [
    "## Minimal and associated primes, primary ideals, primary decomposition"
   ]
  },
  {
   "cell_type": "markdown",
   "id": "0bd29263-ec26-46a0-aaee-f0973ded7bff",
   "metadata": {
    "editable": true,
    "slideshow": {
     "slide_type": ""
    },
    "tags": []
   },
   "source": [
    "In order to understand an object (in this case, an ideal, or an algebraic set), it is useful to break \n",
    "it up into \"simpler\" pieces.  For us, that means finding the irreducible components of an algebraic set, \n",
    "and finding the minimal primes, and primary decomposition of an ideal."
   ]
  },
  {
   "cell_type": "markdown",
   "id": "eb79bddc-4c7e-42fa-a26f-bc31782ee3d8",
   "metadata": {},
   "source": [
    "### Definitions and basic facts"
   ]
  },
  {
   "cell_type": "markdown",
   "id": "ab99d2c3-1555-4846-be55-57d20b08b250",
   "metadata": {},
   "source": [
    "In class, I expect that you have seen these concepts, \n",
    "but here is a reminder and a few exercises to play with!\n",
    "\n",
    "*Definition*. Let $R$ be a Noetherian ring, and $I \\subseteq R$ a proper ideal. Then\n",
    "\n",
    "- $I$ is **maximal** if there is no proper ideal containing $I$ other than $I$.integer $n$.\n",
    "- $I$ is **prime** if $ab  \\in I$ implies $a \\in I$ or $b \\in I$.\n",
    "- $I$ is **primary** if $ab  \\in I$ implies $a \\in I$ or $b^m \\in I$, for some $m \\in \\mathbb{N}$.\n",
    "- $I$ is **irreducible** if $I$ cannot be written as $I_1 \\cap I_2$ for two ideals with $I_i \\ne I$.\n",
    "- $I$ is **radical** if $f^m \\in I$ implies $f \\in I$.\n",
    "\n",
    "*Exercise* (good one to do if you have not done this before!)\n",
    "\n",
    "1. Which monomial ideals are maximal? prime? irreducible?\n",
    "2. Which monomial ideals are primary?\n",
    "\n",
    "*Exercises*\n",
    "\n",
    "1. Every maximal ideal is a prime ideal.\n",
    "1. $I$ primary implies that $P = \\sqrt{I}$ is prime.  $I$ is called a $P$-primary ideal.\n",
    "2. If the radical $P$ of $I$ is prime, is $I$ a $P$-primary ideal? (answer: no! Such an ideal is\n",
    "   sometimes called a **pseudo-primary** ideal).\n",
    "4. Show: The intersection of two $P$-primary ideals is again $P$-primary.\n",
    "\n",
    "*Exercise/Proposition.* Every proper ideal $I \\subset R$ in a Noetherian ring is an intersection of a finite number\n",
    "of irreducible ideals.\n",
    "\n",
    "A **primary decomposition**  of an ideal $I$ is \n",
    "a representation \n",
    "$$I = Q_1 \\cap Q_2 \\cap \\cdots \\cap Q_r,$$\n",
    "where each $Q_i$ is $P_i$-primary.\n",
    "It is **irredundant** if removing any $Q_i$ results in an intersection which doesn't \n",
    "equal $I$, and if $P_1, \\ldots, P_r$ are pairwise distinct.  (I often say: \n",
    "$I = Q_1 \\cap Q_2 \\cap \\cdots \\cap Q_r$ is a **PD** to mean that it is an *irredundant* primary decomposition).\n",
    "  "
   ]
  },
  {
   "cell_type": "code",
   "execution_count": null,
   "id": "75b99f41-5f40-4338-8185-514c5ae45145",
   "metadata": {
    "vscode": {
     "languageId": "macaulay2"
    }
   },
   "outputs": [],
   "source": [
    "--%timeout=40000\n",
    "printWidth=0"
   ]
  },
  {
   "cell_type": "markdown",
   "id": "a735719c-2738-423b-8fa8-44d10dcdfab5",
   "metadata": {},
   "source": [
    "### Example: Monomial ideals"
   ]
  },
  {
   "cell_type": "markdown",
   "id": "6c42abc3-0b02-4e6f-89b3-f66c33ad339d",
   "metadata": {},
   "source": [
    "*Exercise*. By hand, find an irreducible decomposition of the following monomial ideal.  \n",
    "Later we show that each irreducible ideal is primary.\n",
    "Using this, find a $PD$ (irredundant primary decomposition) of the following\n",
    "monomial ideal.  Check your work using Macaulay2."
   ]
  },
  {
   "cell_type": "code",
   "execution_count": null,
   "id": "0ea3e7be-ee8d-45a4-bc3e-75e0c9da592b",
   "metadata": {
    "vscode": {
     "languageId": "macaulay2"
    }
   },
   "outputs": [],
   "source": [
    "R = QQ[a..d];\n",
    "M = monomialIdeal(a^2, a*b, b^3*c, c^4);"
   ]
  },
  {
   "cell_type": "code",
   "execution_count": null,
   "id": "7ba9144e-0496-4805-94b8-44a1f358aaa7",
   "metadata": {
    "vscode": {
     "languageId": "macaulay2"
    }
   },
   "outputs": [],
   "source": [
    "isPrime M"
   ]
  },
  {
   "cell_type": "code",
   "execution_count": null,
   "id": "4e26d8b7-c7d2-4a7f-bb2d-d99e84be7d52",
   "metadata": {
    "vscode": {
     "languageId": "macaulay2"
    }
   },
   "outputs": [],
   "source": [
    "isPrimary M"
   ]
  },
  {
   "cell_type": "code",
   "execution_count": null,
   "id": "44239312-c9af-4fcd-8c43-4ada41c8a55f",
   "metadata": {
    "vscode": {
     "languageId": "macaulay2"
    }
   },
   "outputs": [],
   "source": [
    "radical M"
   ]
  },
  {
   "cell_type": "code",
   "execution_count": null,
   "id": "26c21230-408c-49e4-b13e-3582b92b4741",
   "metadata": {
    "vscode": {
     "languageId": "macaulay2"
    }
   },
   "outputs": [],
   "source": [
    "primaryDecomposition M"
   ]
  },
  {
   "cell_type": "code",
   "execution_count": null,
   "id": "e81d260d-2df9-4bc3-9c52-1f7bf56249c1",
   "metadata": {
    "vscode": {
     "languageId": "macaulay2"
    }
   },
   "outputs": [],
   "source": [
    "irreducibleDecomposition M"
   ]
  },
  {
   "cell_type": "markdown",
   "id": "5ee967af-1b10-49a4-b5f3-0a623951824c",
   "metadata": {},
   "source": [
    "## Ideal quotients and saturations"
   ]
  },
  {
   "cell_type": "markdown",
   "id": "d2c2d4a5-f843-4691-8567-330f96239331",
   "metadata": {},
   "source": [
    "Recall that $(I : g) := \\{ f \\in R \\mid fg \\in I\\}$."
   ]
  },
  {
   "cell_type": "markdown",
   "id": "fdef3ef5-143c-4d5e-9e7c-b6d76912864b",
   "metadata": {},
   "source": [
    "Note that $I \\subseteq  (I:g) \\subseteq (I:g^2) \\subseteq \\cdots$ is an increasing set of ideals, and since\n",
    "$R$ is Noetherian, this eventually stabilizes.  We let $(I : g^\\infty) := \\bigcup_{m=0}^\\infty (I:g^m)$\n",
    "denote this ideal.  It is called the **saturation of $I$ with respect to $g$**.  Note that there is always a minimal $\\ell \\ge 0$\n",
    "such that $(I : g^\\infty) = (I : g^\\ell)$.\n",
    "\n",
    "In Macaulay2, this is denoted as `saturate(I, g)`.  Earlier, we have seen ways to compute both $(I : g)$ and $(I : g^\\infty)$ \n",
    "using Groebner bases.\n",
    "\n",
    "*Exercises*. \n",
    "\n",
    "- Show that if $I$ is irreducible, then $I$ is primary.\n",
    "- Deduce from this and stuff above that every proper ideal $I \\subset R$ in a Noetherian ring has an\n",
    "  irredundant primary decomposition.\n"
   ]
  },
  {
   "cell_type": "markdown",
   "id": "e1180c17-3602-4e51-9739-930944844955",
   "metadata": {},
   "source": [
    "### What about uniqueness?  Associated and minimal primes."
   ]
  },
  {
   "cell_type": "markdown",
   "id": "68913d7d-f8fb-473f-aa0d-c7cb5a5a973d",
   "metadata": {},
   "source": [
    "Here is an important pair of lemmas about the relationship of primary ideals and primary decompositions, and ideal \n",
    "quotients and saturations.  I will leave these as (good!) exercises for you to do."
   ]
  },
  {
   "cell_type": "markdown",
   "id": "136fca0f-83af-4bde-82c9-86d7b20c13b8",
   "metadata": {},
   "source": [
    "Let $Q \\subset R$ be a $P$-primary ideal.  Let $f \\in R$.\n",
    "\n",
    "*Proposition/Exercise.*\n",
    "$$Q : f^\\infty = \\begin{cases}\n",
    "\\langle 1 \\rangle & \\text{if $f \\in P$} \\\\\n",
    "Q & \\text{if $f \\not\\in P$}\n",
    "\\end{cases}\n",
    "$$\n",
    "\n",
    "*Proposition/Exercise.*\n",
    "$$Q : f = \\begin{cases}\n",
    "\\langle 1 \\rangle & \\text{if $f \\in Q$} \\\\\n",
    "\\text{$P$-primary} & \\text{if $f \\in P$, but $f \\not\\in Q$} \\\\\n",
    "Q & \\text{if $f \\not\\in P$}.\n",
    "\\end{cases}\n",
    "$$"
   ]
  },
  {
   "cell_type": "markdown",
   "id": "891a4ca2-a513-492a-b4a9-d3f8800f75ed",
   "metadata": {},
   "source": [
    "Suppose we are given two (irredundant) primary decompositions:\n",
    "$$I = Q_1 \\cap \\cdots \\cap Q_r = Q'_1 \\cap \\cdots Q'_s,$$\n",
    "where $Q_i$ is $P_i$-primary, and $Q'_i$ is $P'_i$-primary.\n",
    "\n",
    "What can we say about the $r$, $s$? do the same primes occur? do the same primaries occur?\n",
    "\n",
    "*Definition*. Let $R$ be a Noetherian ring, and $I \\subseteq R$ a proper ideal. Then\n",
    "\n",
    "- $P$ is a **minimal prime** of $I$ if $I \\subseteq P$, and if $I \\subseteq P' \\subseteq P$\n",
    "  for another prime ideal $P'$, then $P' = P$.\n",
    "- A *prime* ideal $P$ is an **associated prime** of $I$ if there exists $f \\in R$ such that\n",
    "  $P = (I : f)$.\n",
    "\n",
    "*Exercise.* Show that the set of associated primes of $I$ is $\\{ P_1, \\ldots, P_r\\}$.  Consequently,\n",
    "$r=s$, and $\\{P_1, \\ldots, P_r\\} = \\{ P'_1, \\ldots, P'_s \\}$.\n",
    "\n",
    "*Exercise.* Show that the minimal (under inclusion) elements of the set of associated primes is the\n",
    "set of minimal primes defined above.\n",
    "\n",
    "Each associated prime is either **minimal** or **embedded** (that is, not minimal).\n",
    "\n",
    "*Exercise* Use these results to determine what aspects of a $PD$ are unique.  Be mindful of the\n",
    "following example!\n",
    "\n",
    "$\\langle x^2, xy \\rangle = \\langle x \\rangle \\cap \\langle x^2, y \\rangle = \n",
    "\\langle x \\rangle \\cap \\langle x^2, xy, y^m\\rangle$, for any $m$!\n",
    "\n",
    "For instance, given a PD $I = Q_1 \\cap \\cdots \\cap Q_m$, where $Q_i$ is $P_i$-primary.\n",
    "are the following unique?\n",
    "\n",
    "- The set of primes $P$ from a $PD$.\n",
    "- The minimal set of primes from a $PD$.\n",
    "- The primary ideal $Q$ corresponding to a minimal element of this set of primes.\n",
    "- The primary ideal $Q$ corresponding to an embedded prime (an *embedded prime* is any $P_i$ which is not minimal)."
   ]
  },
  {
   "cell_type": "markdown",
   "id": "e2235f73-9529-4af1-9830-74c015498076",
   "metadata": {},
   "source": [
    "### Example: Simplicial complexes and square-free monomial ideals"
   ]
  },
  {
   "cell_type": "markdown",
   "id": "3b814869-c7a6-40b5-b6f4-347028d48d49",
   "metadata": {
    "editable": true,
    "slideshow": {
     "slide_type": ""
    },
    "tags": []
   },
   "source": [
    "*Definition.* An *(abstract) simplicial complex* $\\Delta$ on a vertex set $V$ is a set of subsets of $V$\n",
    "such that\n",
    "\n",
    "- For each $i \\in V$, $\\{ i\\} \\in \\Delta$.\n",
    "- If $\\tau \\subseteq \\sigma \\in \\Delta$, then $\\tau \\in \\Delta$.\n",
    "\n",
    "Here is some terminology about simplicial complexes.\n",
    "\n",
    "- Every element $\\sigma \\in \\Delta$ is called a **face** of $\\Delta$.\n",
    "- Every subset $\\tau \\not\\in \\Delta$ is called a **nonface** of $\\Delta$.\n",
    "- Just to be confusing: a **coface** of $\\Delta$ is a subset whose complement in $V$ is a face.\n",
    "\n",
    "For example, the boundary of the tetrahedron with vertices labeled $1,2,3,4$ is the simplicial complex\n",
    "$\\Delta$ with maximal faces in the set $\\{ \\{1,2,3\\}, \\{1,2,4\\}, \\{1,3,4\\}, \\{2,3,4\\} \\}$. Note that since any subset\n",
    "of a face is also a face, the maximal faces completely determine $\\Delta$.\n",
    "\n",
    "Note that if I choose a set of subsets of $V$, then this determines uniquely a simplicial complex: all subsets of all of these\n",
    "sets.  That is, a simplicial complex is uniquely determined by giving its maximal faces."
   ]
  },
  {
   "cell_type": "markdown",
   "id": "b672fa26-7e32-4dfc-aa6b-2996ff8d6be6",
   "metadata": {},
   "source": [
    "**The Stanley-Reisner ideal**\n",
    "\n",
    "Time to relate this to commutative algebra!\n",
    "\n",
    "*Definition.* Given a simplicial complex $\\Delta$ on a vertex set (say) $\\{ 1, 2, \\ldots, n \\}$, then \n",
    "define the Stanley-Reisner ideal $I_\\Delta \\subset \\mathbb{k}[x_1, \\ldots, x_n]$ to be the ideal generated\n",
    "by monomials $m_\\tau := \\Pi_{i \\in \\tau} x_i$ for each nonface $\\tau$ of $\\Delta$.\n",
    "\n",
    "For example, if $\\Delta$ is the simplicial complex with maximal faces $\\{1,2,3\\}, \\{1,4\\}, \\{2,4\\}, \\{3,4\\}$, \n",
    "whose nonfaces are $\\{1,2,4\\}, \\{1,3,4\\}, \\{2,3,4\\},$ and $\\{1,2,3,4\\}$,\n",
    "then $I_\\Delta = \\langle x_1 x_2 x_4, x_1 x_3 x_4, x_2 x_3 x_4 \\rangle$.\n",
    "$I_\\Delta$ is minimally generated by monomials corresponding to the minimal nonfaces of $\\Delta$.\n",
    "\n",
    "*Exercise.* Show that *any* squarefree monomial ideal (i.e. an ideal generated by a set of squarefree monomials) is $I_\\Delta$ for \n",
    "a uniquely given simplicial complex."
   ]
  },
  {
   "cell_type": "markdown",
   "id": "96f74379-0330-4cd8-90f8-1a213da87d61",
   "metadata": {},
   "source": [
    "**Our goal: finding the primary decomposition of the Stanley-Reisner ideal $I_\\Delta$**\n",
    "\n",
    "Note that $I_\\Delta$ is a radical ideal, and therefore its primary decomposition is given\n",
    "by the intersection of all of the associated primes of $I_\\Delta$.  (exercise: prove these assertions!)\n",
    "\n",
    "It will turn out also that each associated prime is a monomial prime ideal.\n",
    "\n",
    "*Important exercise*.\n",
    "Given these, choose a couple of smaller simplicial complexes (on e.g. 3,4,5 vertices), \n",
    "and try to compute the primary decomposition of the corresponding $I_\\Delta$.\n",
    "Can you find a general pattern?\n",
    "\n",
    "**Stop!** Do not read on until you have tried some examples, and tried to find a general pattern!"
   ]
  },
  {
   "cell_type": "markdown",
   "id": "6e429ddb-95a6-4bd1-9018-8d4db6ade2b3",
   "metadata": {},
   "source": [
    "Here is one example done using Macaulay2."
   ]
  },
  {
   "cell_type": "code",
   "execution_count": null,
   "id": "2d4289ea-2b23-4c74-b056-a57c77d6359e",
   "metadata": {
    "vscode": {
     "languageId": "macaulay2"
    }
   },
   "outputs": [],
   "source": [
    "R = QQ[x_1..x_4];\n",
    "I = ideal(x_1*x_2*x_4, x_1*x_3*x_4, x_2*x_3*x_4)"
   ]
  },
  {
   "cell_type": "code",
   "execution_count": null,
   "id": "e7c3ba2f-aecf-4cd1-9680-df2f78b86286",
   "metadata": {
    "vscode": {
     "languageId": "macaulay2"
    }
   },
   "outputs": [],
   "source": [
    "primaryDecomposition I"
   ]
  },
  {
   "cell_type": "markdown",
   "id": "b75385bf-f02f-4658-a23d-c6723e61c3e1",
   "metadata": {},
   "source": [
    "**Stop!** Once you have done some examples, read on!\n",
    "\n",
    "Given $\\Delta$, suppose that $\\sigma = \\{i_1, \\ldots, i_r\\} \\in \\Delta$ is a maximal face.\n",
    "Therefore $\\{ i_1, \\ldots, i_r, k\\}$ is a nonface, for every $k \\not\\in \\sigma$.\n",
    "Note that then\n",
    "  $$(I_\\Delta : x_{i_1} x_{i_2} \\ldots x_{i_r}) \\ = \\langle \\{ x_k \\mid k \\not\\in \\sigma \\} \\rangle.$$\n",
    "\n",
    "Therefore \n",
    "$$I_\\Delta \\subseteq \\bigcap_{\\text{$\\tau$ is a minimal coface of $\\Delta$}} \\langle x_k \\mid k \\in \\tau \\rangle.$$\n",
    "\n",
    "Note that if $m$ is a squarefree monomial in the right-hand side of this equation, then $m$ corresponds to a nonface of $\\Delta$, and so\n",
    "is contained in $I_\\Delta$.\n",
    "\n",
    "Therefore\n",
    "$$I_\\Delta = \\bigcap_{\\text{$\\tau$ is a minimal coface}}\\ \\langle x_k \\mid k \\in \\tau \\rangle$$\n",
    "is a primary decomposition of $I_\\Delta$!\n",
    "\n",
    "*Example from above:* Continuing with the example from above,\n",
    "if $\\Delta$ is the simplicial complex with maximal faces $\\{1,2,3\\}, \\{1,4\\}, \\{2,4\\}, \\{3,4\\}$, \n",
    "whose nonfaces are $\\{1,2,4\\}, \\{1,3,4\\}, \\{2,3,4\\},$ and $\\{1,2,3,4\\}$,\n",
    "where $I_\\Delta = \\langle x_1 x_2 x_4, x_1 x_3 x_4, x_2 x_3 x_4 \\rangle$, then\n",
    "the minimal cofaces are the complements of the maximal faces: \n",
    "  $\\{ 4 \\}, \\{ 2,3 \\}, \\{ 1,3 \\}, \\{ 1,2 \\}$, and so the primary decomposition is\n",
    "  $$ I_\\Delta = \\langle x_1 x_2 x_4, x_1 x_3 x_4, x_2 x_3 x_4 \\rangle = \n",
    "  \\langle x_4 \\rangle \\cap \\langle x_2, x_3 \\rangle \\cap \\langle x_1, x_3 \\rangle \\cap \\langle x_1, x_2 \\rangle\n",
    "  $$\n",
    "$I_\\Delta$ is minimally generated by monomials corresponding to the minimal nonfaces of $\\Delta$.\n"
   ]
  },
  {
   "cell_type": "markdown",
   "id": "0ea8e51a-55d4-48d4-a04e-342594c067e7",
   "metadata": {},
   "source": [
    "### A divide and conquer algorithm\n",
    "\n",
    "*Key Lemma*. (We did this in class) Let $I \\subset R$ be an ideal, and $f \\in R$ not be in $I$.\n",
    "  Suppose that $(I : f^\\infty) = (I : f^\\ell)$.\n",
    "  Then\n",
    "  $$I = (I : f^\\infty) \\cap (I + \\langle f^\\ell \\rangle).$$\n"
   ]
  },
  {
   "cell_type": "markdown",
   "id": "24be5a7f-51f7-48a1-901f-9fe76f693a4e",
   "metadata": {},
   "source": [
    "One can use the key lemma to compute a primary decomposition, if one can find elements $f$ which are\n",
    "zero divisors mod $I$.  However, this will often result in a highly redundant primary\n",
    "decomposition.\n",
    "\n",
    "Here is an example of this.  Note that in Macaulay2, `saturate(I, f)` refers to the saturation $(I : f^\\infty)$."
   ]
  },
  {
   "cell_type": "code",
   "execution_count": null,
   "id": "30170592-868c-429d-9483-7ef7d8585f14",
   "metadata": {
    "vscode": {
     "languageId": "macaulay2"
    }
   },
   "outputs": [],
   "source": [
    "I = ideal(c^2-b*d,b^2-a*c)"
   ]
  },
  {
   "cell_type": "markdown",
   "id": "f779feba-fcef-424e-9f54-c73d00cc70bf",
   "metadata": {},
   "source": [
    "*Exercise*.  Using Macaulay2 to do intersections, ideal quotients, saturations, try to\n",
    "find a $PD$ of $I$.  Check your work.  Try this on your own before looking at the answer below!\n",
    "There are questions here: How to find good polynomials to split by?  How to know when you have a prime,\n",
    "or primary ideal?"
   ]
  },
  {
   "cell_type": "code",
   "execution_count": null,
   "id": "ab2d40f0-8248-4bd0-ac85-19f55898a8fb",
   "metadata": {
    "vscode": {
     "languageId": "macaulay2"
    }
   },
   "outputs": [],
   "source": [
    "compsI = primaryDecomposition I"
   ]
  },
  {
   "cell_type": "code",
   "execution_count": null,
   "id": "75ba3305-4428-4918-9fef-f9c2864903db",
   "metadata": {
    "vscode": {
     "languageId": "macaulay2"
    }
   },
   "outputs": [],
   "source": [
    "saturate(I, b) == (I : b)"
   ]
  },
  {
   "cell_type": "code",
   "execution_count": null,
   "id": "7c9b6af9-19dc-405f-b3c6-2ef805cf78e3",
   "metadata": {
    "vscode": {
     "languageId": "macaulay2"
    }
   },
   "outputs": [],
   "source": [
    "I1 = I:b"
   ]
  },
  {
   "cell_type": "code",
   "execution_count": null,
   "id": "db52ed55-7327-4f6f-ad88-38e8328b4227",
   "metadata": {
    "vscode": {
     "languageId": "macaulay2"
    }
   },
   "outputs": [],
   "source": [
    "I2 = trim(ideal(b) + I)"
   ]
  },
  {
   "cell_type": "code",
   "execution_count": null,
   "id": "6a80b69d-e58d-4b43-86ec-0b87c661f97a",
   "metadata": {
    "vscode": {
     "languageId": "macaulay2"
    }
   },
   "outputs": [],
   "source": [
    "intersect(I1, I2) == I"
   ]
  },
  {
   "cell_type": "markdown",
   "id": "5da3e10a-3105-4ff1-837c-00d02a13c2fb",
   "metadata": {},
   "source": [
    "Now split $I_2$ using $f = a$ (Note that using $c$ would not split the ideal!)"
   ]
  },
  {
   "cell_type": "code",
   "execution_count": null,
   "id": "542a35f1-2320-4188-9251-7d4755df5634",
   "metadata": {
    "vscode": {
     "languageId": "macaulay2"
    }
   },
   "outputs": [],
   "source": [
    "I21 = saturate(I2, a)"
   ]
  },
  {
   "cell_type": "code",
   "execution_count": null,
   "id": "02f6f415-df98-4b94-ac78-c06632564973",
   "metadata": {
    "vscode": {
     "languageId": "macaulay2"
    }
   },
   "outputs": [],
   "source": [
    "I21 == I2 : a"
   ]
  },
  {
   "cell_type": "code",
   "execution_count": null,
   "id": "a97c699d-40fd-4d1e-ab3c-d3e832db668c",
   "metadata": {
    "vscode": {
     "languageId": "macaulay2"
    }
   },
   "outputs": [],
   "source": [
    "I22 = trim(ideal(a) + I2)"
   ]
  },
  {
   "cell_type": "code",
   "execution_count": null,
   "id": "0809ab96-31c7-4729-a2ae-0bbf083d0551",
   "metadata": {
    "vscode": {
     "languageId": "macaulay2"
    }
   },
   "outputs": [],
   "source": [
    "I == intersect(I1, I21, I22)"
   ]
  },
  {
   "cell_type": "markdown",
   "id": "3c46e1a7-3e3f-4159-aede-63840559a576",
   "metadata": {},
   "source": [
    "Note that $I_{22}$ is redundant!"
   ]
  },
  {
   "cell_type": "code",
   "execution_count": null,
   "id": "ed8cd582-5627-4f17-a012-2636b2d921a5",
   "metadata": {
    "vscode": {
     "languageId": "macaulay2"
    }
   },
   "outputs": [],
   "source": [
    "I == intersect(I1, I21)"
   ]
  },
  {
   "cell_type": "markdown",
   "id": "73c6468d-f5d5-4ef1-9e48-1f9116a289de",
   "metadata": {},
   "source": [
    "## First facts about zero dimensional ideals"
   ]
  },
  {
   "cell_type": "markdown",
   "id": "1673fee5-931a-40c7-ab2a-b90db9182417",
   "metadata": {},
   "source": [
    "Let $I \\subset R = \\mathbb{k}[x_1, \\ldots, x_n]$ be a *zero-dimensional* ideal, that is, $\\dim R/I = 0$.\n",
    "\n",
    "Recall that if $\\mathbb{k} \\subset L$ is a field extension \n",
    "(including the important case when $L$ is an algebraic closure of $\\mathbb{k}$), we set \n",
    "$$\\mathbb{V}_L(I) := \\{ a = (a_1, \\ldots, a_n) \\in L^n \\mid f(a) = 0, \\forall f \\in I \\}$$\n",
    "\n",
    "The following summarizes the relationship between the geometry and the algebra of these ideals and varieties.\n",
    "\n",
    "*Proposition.* For an ideal $I \\subset R = \\mathbb{k}[x_1, \\ldots, x_n]$, the following are equivalent.\n",
    "\n",
    "- $\\dim R/I = 0$\n",
    "- $\\dim_{\\mathbb{k}} R/I = d < \\infty$\n",
    "- the number of elements in $\\mathbb{V}_L(I)$ is finite for any extension field $L$ of $\\mathbb{k}$.\n",
    "\n",
    "Furthermore, if $I = \\sqrt{I}$, and $\\mathbb{k}$ is algebraically closed, then $|\\mathbb{V}_{\\mathbb{k}}(I)| = d$.\n",
    "\n",
    "For example, if $I = \\langle x^2-5, y^2-1 \\rangle \\subset \\mathbb{Q}[x,y]$, then \n",
    "$\\mathbb{V}_{\\mathbb{C}}(I) = \\{ (\\pm \\sqrt{5}, \\pm 1) \\}$ has 4 points.  $\\dim R/I = 0$, and\n",
    "$\\dim_{\\mathbb{Q}} R/I = 4$ (with basis $1, x, y, xy$). Is $I$ a radical ideal?"
   ]
  },
  {
   "cell_type": "markdown",
   "id": "016fae3c-4d1d-43c9-b209-83671b75ca52",
   "metadata": {},
   "source": [
    "Question: how do we tell if $I$ is zero-dimensional?  Here is a very useful remark:\n",
    "\n",
    "*Proposition.* Fix any monomial order $>$ on $R$. $I$ is zero-dimensional if and only if\n",
    "the lead term ideal $LT_>(I)$ contains a power of each variable, \n",
    "that is for some $m_i$, $x_1^{m_1}, \\ldots, x_n^{m_n}$ are all lead terms of $I$.\n",
    "\n",
    "*Proof.* Here is the main observation: Suppose that $I$ is zero-dimensional, let $d = \\dim_{\\mathbb{k}} R/I$.  Consider the\n",
    "images of the monomials $1, x_i, x_i^2, \\ldots, x_i^d$ in $R/I$.  As there are more than $d$ elements,\n",
    "they must be linearly dependent.  Therefore there exists a polynomial $f_i(x_i)$ of degree $\\le d$ in $x_i$\n",
    "inside the ideal $I$.\n",
    "\n",
    "*Corollary.* $I \\subset R = \\mathbb{k}[x_1, \\ldots, x_n]$ is zero-dimensional if and only if there are\n",
    "univariant polynomials $f_1(x), \\ldots, f_n(x)$ such that each $f_i(x_i) \\in I$.\n"
   ]
  },
  {
   "cell_type": "markdown",
   "id": "b8d0fb50-b362-44d3-a54a-2618b3eb3280",
   "metadata": {},
   "source": [
    "*Question.* If $I \\subset R = \\mathbb{k}[x_1, \\ldots, x_n]$ is zero-dimensional, what do we know about its\n",
    "primary decomposition(s)?\n",
    "\n",
    "*Proposition.* If $I \\subset R = \\mathbb{k}[x_1, \\ldots, x_n]$ is zero-dimensional, and\n",
    "$$I = Q_1 \\cap \\cdots \\cap Q_r$$\n",
    "is an (irredundant) primary decomposition of $I$, with $Q_i$ a $P_i$-primary ideal, then\n",
    "\n",
    "1. Every $P_i$ is a minimal prime of $I$, and a maximal ideal of $R$, so there are no embedded primes.\n",
    "2. For each $j$, choose $g_j \\in \\cap_{i \\ne j} Q_i$, but not in $Q_j$.  Then $Q_j = (I : g_j^\\infty)$.\n",
    "3. $\\sqrt{I} = P_1 \\cap \\ldots \\cap P_r$.\n",
    "\n",
    "This means that PD's of zero-dimensional ideals are pretty well behaved, and unique up to the order of the $Q_i$."
   ]
  },
  {
   "cell_type": "markdown",
   "id": "c49c1945-bd21-46a5-a785-3565920c9e51",
   "metadata": {},
   "source": [
    "### A word about field theory and *computable* fields"
   ]
  },
  {
   "cell_type": "markdown",
   "id": "4d89d555-54ea-48d3-ac10-c5e402c3acdd",
   "metadata": {},
   "source": [
    "Let's talk briefly about fields.\n",
    "\n",
    "What fields $\\mathbb{k}$ are we interested in?  \n",
    "\n",
    "- Basic fields: finite fields $\\mathbb{F}_q$.\n",
    "- The rationals $\\mathbb{Q}$.\n",
    "- Fraction fields, e.g. $\\mathbb{k}(t)$, or more generally: $\\mathbb{k}(t_1, \\ldots, t_\\ell)$.\n",
    "- Finite extensions of these, e.g. number fields $\\mathbb{Q}[\\alpha]/f(\\alpha)$.\n",
    "\n",
    " \n",
    "We assume that we can compute in $\\mathbb{k}$, and therefore in polynomial rings over $\\mathbb{k}$:\n",
    "\n",
    "Let's call a field $\\mathbb{k}$ **computable** if\n",
    "\n",
    "- we can compute elements $0$, $1$, and operations $a+b$, $a-b$, $ab$ and $a/b$ whenever they are defined ($a,b \\in \\mathbb{k}$).\n",
    "- we can compute equality $a=b$.\n",
    "- we can factor polynomials in $\\mathbb{k}[x_1, \\ldots, x_n]$ completely (recall that this polynomial ring is a UFD!):\n",
    "  $$f = c f_1^{m_1} \\cdots f_r^{m_r},$$\n",
    "  where $c \\in \\mathbb{k}$, and each $f_i$ is a monic irreducible polynomial, and the $m_i > 0$.\n",
    "\n",
    "This last condition is not trivial!  Which fields are computable?\n",
    "\n",
    "*Fact.* \n",
    "\n",
    "- The fields $\\mathbb{Q}$, $\\mathbb{F}_q$ are computable.\n",
    "- Fraction fields of polynomial rings over these rings are computable.\n",
    "\n",
    "The difficulty lies in finding algorithms to factor polynomials over $\\mathbb{k}$!  We will\n",
    "*assume* that $\\mathbb{k}$ is a computable field."
   ]
  },
  {
   "cell_type": "markdown",
   "id": "80a472cb-d3d0-40e5-9fda-bc7d4cd258b8",
   "metadata": {},
   "source": [
    "**Perfect fields, separable extensions**\n",
    "\n",
    "Look up on wikipedia the definitions of these, if you don't recall them.\n",
    "\n",
    "For now, we will assume that $\\mathbb{k}$ is perfect (e.g. any characteristic zero field or any finite field, \n",
    "but *not* $\\mathbb{F}_p(t)$!) It turns out that we can handle non-perfect fields too.  There is a nice paper on this, \n",
    "it would make a good project for this course!\n",
    "\n",
    "**Key point:** If $\\mathbb{k}$ is perfect, then $f \\in \\mathbb{k}[x]$ is squarefree if and only if $\\text{gcd}(f, f') = 1$.\n",
    "\n",
    "*Exercise*: check that $f/gcd(f,f')$ is the product of the distinct irreducible factors of $f$.\n",
    "Show by an example that this fails if $\\mathbb{k}$ is not perfect."
   ]
  },
  {
   "cell_type": "markdown",
   "id": "46e954a5-e14a-43cb-8654-9ab9ea5b1e59",
   "metadata": {},
   "source": [
    "### So, how do we compute radicals, minimal primes, primary decompositions in zero-dimensional case?"
   ]
  },
  {
   "cell_type": "markdown",
   "id": "87f4e922-2181-4498-9941-663aa9447753",
   "metadata": {},
   "source": [
    "*Situation.*: $I$ has dimension zero, and $f_i(x_i) \\in I$, for each $i$.\n",
    "\n",
    "Recall: $\\mathbb{k}[x]$ is a UFD, so we can completely factor $f_i = c p_1^{m_1} \\ldots p_r^{m_r}$,\n",
    "where $p_i$ are distinct monic irreducible polynomials.\n",
    "\n",
    "*Proposition.* With this notation\n",
    "$$I = (I + \\langle p_1^{m_1} \\rangle) \\cap \\cdots \\cap (I + \\langle p_r^{m_r} \\rangle),$$\n",
    "and\n",
    "$$\\sqrt{I} = \\sqrt{I + \\langle p_1 \\rangle} \\cap \\cdots \\cap \\sqrt{I + \\langle p_r \\rangle}.$$\n",
    "\n",
    "This follows immediately from the following important splitting criterion:\n",
    "\n",
    "*Proposition.* Let $I$ be an ideal in a Noetherian ring $R$.  If $fg \\in I$ and $\\langle f, g \\rangle = R$, then\n",
    "$$I = (I + \\langle f \\rangle) \\cap (I + \\langle g \\rangle).$$\n",
    "Furthermore a PD of $I$ is formed by combining PD's of both ideals on the right hand side."
   ]
  },
  {
   "cell_type": "markdown",
   "id": "84e7aa7d-81f8-4c10-96e9-59e6d8289f68",
   "metadata": {},
   "source": [
    "By using this fact, we can reduce to the case where each $f_i$ is a power of an irreducible polynomial.  \n",
    "If we are \n",
    "only interested in the minimal primes, we now have a set of ideals, each satisfying that the $f_i$ is an irreducible polynomial."
   ]
  },
  {
   "cell_type": "markdown",
   "id": "9588b931-0010-4e18-ab05-a90d0839ae24",
   "metadata": {},
   "source": [
    "**Cool fact from Seidenberg (1974), Lemma 92**\n",
    "\n",
    "Let $I \\subset \\mathbb{k}[x_1, \\ldots, x_n]$ be a zero-dimensional ideal, where $\\mathbb{k}$ is a perfect field.\n",
    "For each $i=1, \\ldots, n$, let $f_i(x_i)$ be a non-zero element in $I$.\n",
    "If $g_i = \\sqrt{f_i}$ be the squarefree part of $f_i$, then\n",
    "$$ \\sqrt{I} = I + \\langle g_1, \\ldots, g_n \\rangle.$$\n",
    "\n",
    "\n",
    "Here is an example though, to keep you/me honest!\n",
    "\n",
    "*Example.* Let $\\mathbb{k} = \\mathbb{F}_p(t)$.  Let $I = \\langle x^p-t, y^p-t \\rangle \\subset \\mathbb{k}[x,y]$.\n",
    "Show that although $x^p-t$ and $y^p-t$ are irreducible polynomials, $I$ is not a radical ideal.\n",
    "\n",
    "*Exercise.* Prove this cool fact carefully, keeping in mind this example.\n"
   ]
  },
  {
   "cell_type": "markdown",
   "id": "29d84747-1ac7-4ce5-8f3e-585f64379119",
   "metadata": {},
   "source": [
    "**Normal Position**\n",
    "\n",
    "*Definition.* Let $I \\subset \\mathbb{k}[x_1, \\ldots, x_n]$ be a zero-dimensional ideal, suppose that for $L$ the algebraic closure of $I$,\n",
    "and consider the finite set of points $\\mathbb{V}_L(I)$.  If the $i$-th coordinates of all of these points are\n",
    "distinct, we say that $I$ is in **normal position** with respect to $x_i$.\n",
    "\n",
    "*Shape Lemma.* If $I$ is a radical zero-dimensional ideal \n",
    "in normal position with respect to $x_n$,\n",
    "whose zero set (over the algebraic closure) has $d$ points,\n",
    "then the reduced\n",
    "   Groebner basis of $I$ with respect to the lexicographic with $x_1 > x_2 > \\cdots > x_n$\n",
    "   has the form:\n",
    "   $$\n",
    "   \\left(\n",
    "   \\begin{array}{c}\n",
    "   x_1 - f_1(x_n) \\\\\n",
    "   x_2 - f_2(x_n) \\\\\n",
    "   \\vdots \\\\\n",
    "   x_{n-1} - f_{n-1}(x_n) \\\\\n",
    "   f_n(x_n)\n",
    "   \\end{array}\n",
    "   \\right),\n",
    "   $$\n",
    "   where the degree of $f_n$ is $d$, and the degree of $f_i$ is $<d$, for all $i < n$.\n",
    "\n",
    "   *Exercise.* Prove this lemma.\n",
    "\n",
    "   *Corollary 1.* If $I$ satisfies the hypotheses of the shape lemma, and $f_n = p_1 \\ldots p_r$, where $p_i$ is irreducible,\n",
    "   then the minimal primes of $I$ are $P_i = I + \\langle p_i \\rangle$, and $I = P_1 \\cap \\ldots \\cap P_r$ is a PD of $I$.\n",
    "\n",
    "   *Corollary 2.* If $\\sqrt{I}$ satisfies the hypotheses of the shape lemma, and $f(x_n) = p_1^{m_1} \\ldots p_r^{m_r}$ is in $I$, ($p_i$\n",
    "   are irreducible, monic, distinct), then the PD of $I$ is\n",
    "   $$I = Q_1 \\cap \\cdots \\cap Q_r,$$\n",
    "   where $Q_i = I + \\langle p_i^{m_i} \\rangle$, and $Q_i$ is $P_i := I + \\langle p_i \\rangle$ primary.\n",
    "\n",
    "   One final question: How can we place $I$ into normal position for x_n?\n",
    "   We just need to change coordinates so that $x_n$ maps to $x_n + c_1 x_1 + \\ldots c_{n-1} x_{n-1}$, for \n",
    "   \"general\" $c_i \\in \\mathbb{k}$.   If the field doesn't have enough elements, we cannot do so (without extending the field).\n",
    "   Becker-Weispfennig in section 8.6 and theorme 8.8.1 prove what sizes we will need to insure that we can change coordinates."
   ]
  },
  {
   "cell_type": "markdown",
   "id": "da3aa9d5-97fd-49c1-8005-1a8f2d14c8a5",
   "metadata": {},
   "source": [
    "We can now put this all together in an algorithm.  I will leave you to put it together.  Let's try it now\n",
    "on the cyclic roots problem!"
   ]
  },
  {
   "cell_type": "markdown",
   "id": "9504a818-0cc0-41aa-b5fc-b6c4e7aa773a",
   "metadata": {},
   "source": [
    "### Example.\n",
    "\n",
    "Consider the following ideal, which arises from a problem involving Kuramoto oscillators.  You should use the macaulay2 file \n",
    "on the website for this course for week9."
   ]
  },
  {
   "cell_type": "code",
   "execution_count": null,
   "id": "f56e2fbb-6f76-476e-905e-ade1ff5ac4df",
   "metadata": {},
   "outputs": [],
   "source": [
    "kk = ZZ/101\n",
    "kk = QQ -- choose one of these two fields, and comment out the other one\n",
    "R = kk[x_1..y_4];\n",
    "gens R"
   ]
  },
  {
   "cell_type": "code",
   "execution_count": null,
   "id": "cddfe531-d64d-4ebf-944e-fadbf399b6d1",
   "metadata": {},
   "outputs": [],
   "source": [
    "I = ideal(-y_2-y_3-y_4,\n",
    "  x_3*y_1+x_4*y_1-x_1*y_3-x_1*y_4,\n",
    "  x_4*y_2-x_2*y_4+y_2,\n",
    "  -x_3*y_1+x_1*y_3+x_4*y_3-x_3*y_4+y_3,\n",
    "  -x_4*y_1-x_4*y_2-x_4*y_3+x_1*y_4+x_2*y_4+x_3*y_4+y_4,\n",
    "  x_1^2+y_1^2-1,\n",
    "  x_2^2+y_2^2-1,\n",
    "  x_3^2+y_3^2-1,\n",
    "  x_4^2+y_4^2-1)"
   ]
  },
  {
   "cell_type": "code",
   "execution_count": null,
   "id": "1dff1cd1-a391-40d4-b5c3-0a1332c625df",
   "metadata": {},
   "outputs": [],
   "source": [
    "(dim I, degree I)"
   ]
  },
  {
   "cell_type": "markdown",
   "id": "4bcf0006-ae3a-4ea5-8196-ad459e697963",
   "metadata": {},
   "source": [
    "*Exercise.* Use the methods here to find the primary decomposition of $I$.\n",
    "See the Macaulay2 file for week9 for some code to help get started."
   ]
  },
  {
   "cell_type": "markdown",
   "id": "809bd8b9-f013-4dd8-88f4-7665dda427ff",
   "metadata": {},
   "source": [
    "### How to reduce to zero-dimensional case?"
   ]
  },
  {
   "cell_type": "markdown",
   "id": "29f27757-ba35-45a9-b804-b13af0cee7d8",
   "metadata": {},
   "source": [
    "**A. Independent sets**"
   ]
  },
  {
   "cell_type": "markdown",
   "id": "2a94ebf7-c532-439e-975e-749dbeb8790a",
   "metadata": {},
   "source": [
    "**B. Extension and contraction**"
   ]
  },
  {
   "cell_type": "markdown",
   "id": "f18e7f6f-4f0f-4439-a6c6-a0b0cb453be5",
   "metadata": {},
   "source": [
    "**C. Putting it all together**"
   ]
  }
 ],
 "metadata": {
  "author": "Mike Stillman",
  "kernelspec": {
   "display_name": "M2",
   "language": "text/x-macaulay2",
   "name": "m2"
  },
  "language_info": {
   "codemirror_mode": "macaulay2",
   "file_extension": ".m2",
   "mimetype": "text/x-macaulay2",
   "name": "Macaulay2"
  },
  "title": "Primary decompositions"
 },
 "nbformat": 4,
 "nbformat_minor": 5
}
