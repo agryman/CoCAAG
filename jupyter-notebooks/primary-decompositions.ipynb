{
 "cells": [
  {
   "cell_type": "markdown",
   "id": "8d8e2437-cf99-4e21-9c68-9601495e4654",
   "metadata": {},
   "source": [
    "## Minimal and associated primes, primary ideals, primary decomposition"
   ]
  },
  {
   "cell_type": "markdown",
   "id": "0bd29263-ec26-46a0-aaee-f0973ded7bff",
   "metadata": {},
   "source": [
    "In order to understand an object (in this case, an ideal, or an algebraic set), it is useful to break \n",
    "it up into \"simpler\" pieces.  For us, that means finding the irreducible components of an algebraic set, \n",
    "and finding the minimal primes, and primary decomposition of an ideal."
   ]
  },
  {
   "cell_type": "markdown",
   "id": "eb79bddc-4c7e-42fa-a26f-bc31782ee3d8",
   "metadata": {},
   "source": [
    "### Definitions and basic facts"
   ]
  },
  {
   "cell_type": "markdown",
   "id": "ab99d2c3-1555-4846-be55-57d20b08b250",
   "metadata": {},
   "source": [
    "In class, I expect that you have seen these concepts, \n",
    "but here is a reminder and a few exercises to play with!\n",
    "\n",
    "*Definition*. Let $R$ be a Noetherian ring, and $I \\subseteq R$ a proper ideal. Then\n",
    "- $I$ is **maximal** if there is no proper ideal containing $I$ other than $I$.integer $n$.\n",
    "- $I$ is **prime** if $ab  \\in I$ implies $a \\in I$ or $b \\in I$.\n",
    "- $I$ is **primary** if $ab  \\in I$ implies $a \\in I$ or $b^m \\in I$, for some $m \\in \\mathbb{N}$.\n",
    "- $I$ is **irreducible** if $I$ cannot be written as $I_1 \\cap I_2$ for two ideals with $I_i \\ne I$.\n",
    "- $I$ is **radical** if $f^m \\in I$ implies $f \\in I$.\n",
    "\n",
    "*Exercise* (good one to do if you have not done this before!)\n",
    "\n",
    "1. Which monomial ideals are maximal? prime? irreducible?\n",
    "2. Which monomial ideals are primary?\n",
    "\n",
    "*Exercises*\n",
    "\n",
    "1. Every maximal ideal is a prime ideal.\n",
    "1. $I$ primary implies that $P = \\sqrt{I}$ is prime.  $I$ is called a $P$-primary ideal.\n",
    "2. If the radical $P$ of $I$ is prime, is $I$ a $P$-primary ideal? (answer: no! Such an ideal is\n",
    "   sometimes called a **pseudo-primary** ideal).\n",
    "4. Show: The intersection of two $P$-primary ideals is again $P$-primary.\n",
    "\n",
    "*Exercise/Proposition.* Every proper ideal $I \\subset R$ in a Noetherian ring is an intersection of a finite number\n",
    "of irreducible ideals.\n",
    "\n",
    "\n",
    "A **primary decomposition**  of an ideal $I$ is \n",
    "a representation \n",
    "$$I = Q_1 \\cap Q_2 \\cap \\cdots \\cap Q_r,$$\n",
    "where each $Q_i$ is $P_i$-primary.\n",
    "It is **irredundant** if removing any $Q_i$ results in an intersection which doesn't \n",
    "equal $I$, and if $P_1, \\ldots, P_r$ are pairwise distinct.  (I often say: \n",
    "$I = Q_1 \\cap Q_2 \\cap \\cdots \\cap Q_r$ is a **PD** to mean that it is an *irredundant* primary decomposition).\n",
    "\n",
    "Key facts, given $I \\subseteq R$ in a polynomial ring $I$.\n",
    "1. There exists an irredundant PD.\n",
    "2. The set $\\{ P_1, \\ldots, P_r\\}$ equals the set of associated primes of $I$.\n",
    "3. The minimal elements of this set is the set of minimal primes of $I$.\n",
    "  "
   ]
  },
  {
   "cell_type": "code",
   "execution_count": null,
   "id": "75b99f41-5f40-4338-8185-514c5ae45145",
   "metadata": {},
   "outputs": [],
   "source": [
    "--%timeout=40000\n",
    "printWidth=0"
   ]
  },
  {
   "cell_type": "markdown",
   "id": "a735719c-2738-423b-8fa8-44d10dcdfab5",
   "metadata": {},
   "source": [
    "### Example: Monomial ideals"
   ]
  },
  {
   "cell_type": "markdown",
   "id": "6c42abc3-0b02-4e6f-89b3-f66c33ad339d",
   "metadata": {},
   "source": [
    "*Exercise*. By hand. find an irreducible decomposition.  Later we show that each irreducible ideal is primary.\n",
    "Using this, find a $PD$ (irredundant primary decomposition) of the following\n",
    "monomial ideal.  Check your work using Macaulay2."
   ]
  },
  {
   "cell_type": "code",
   "execution_count": null,
   "id": "0ea3e7be-ee8d-45a4-bc3e-75e0c9da592b",
   "metadata": {},
   "outputs": [],
   "source": [
    "R = QQ[a..d];\n",
    "M = monomialIdeal(a^2, a*b, b^3*c, c^4);"
   ]
  },
  {
   "cell_type": "code",
   "execution_count": null,
   "id": "7ba9144e-0496-4805-94b8-44a1f358aaa7",
   "metadata": {},
   "outputs": [],
   "source": [
    "isPrime M"
   ]
  },
  {
   "cell_type": "code",
   "execution_count": null,
   "id": "4e26d8b7-c7d2-4a7f-bb2d-d99e84be7d52",
   "metadata": {},
   "outputs": [],
   "source": [
    "isPrimary M"
   ]
  },
  {
   "cell_type": "code",
   "execution_count": null,
   "id": "44239312-c9af-4fcd-8c43-4ada41c8a55f",
   "metadata": {},
   "outputs": [],
   "source": [
    "radical M"
   ]
  },
  {
   "cell_type": "code",
   "execution_count": null,
   "id": "26c21230-408c-49e4-b13e-3582b92b4741",
   "metadata": {},
   "outputs": [],
   "source": [
    "primaryDecomposition M"
   ]
  },
  {
   "cell_type": "code",
   "execution_count": null,
   "id": "e81d260d-2df9-4bc3-9c52-1f7bf56249c1",
   "metadata": {},
   "outputs": [],
   "source": [
    "irreducibleDecomposition M"
   ]
  },
  {
   "cell_type": "markdown",
   "id": "5ee967af-1b10-49a4-b5f3-0a623951824c",
   "metadata": {},
   "source": [
    "## Ideal quotients and saturations"
   ]
  },
  {
   "cell_type": "markdown",
   "id": "d2c2d4a5-f843-4691-8567-330f96239331",
   "metadata": {},
   "source": [
    "Recall that $(I : g) := \\{ f \\in R \\mid fg \\in I\\}$."
   ]
  },
  {
   "cell_type": "markdown",
   "id": "fdef3ef5-143c-4d5e-9e7c-b6d76912864b",
   "metadata": {},
   "source": [
    "Note that $I \\subseteq  (I:g) \\subseteq (I:g^2) \\subseteq \\cdots$ is an increasing set of ideals, and since\n",
    "$R$ is Noetherian, this eventually stabilizes.  We let $(I : g^\\infty) := \\bigcup_{m=0}^\\infty (I:g^m)$\n",
    "denote this ideal.  It is called the **saturation of $I$ with respect to $g$**.  Note that there is always a minimal $\\ell \\ge 0$\n",
    "such that $(I : g^\\infty) = (I : g^\\ell)$.\n",
    "\n",
    "In Macaulay2, this is denoted as `saturate(I, g)`.  Earlier, we have seen ways to compute both $(I : g)$ and $(I : g^\\infty)$ \n",
    "using Groebner bases.\n",
    "\n",
    "*Exercises*. \n",
    "\n",
    "- Show that if $I$ is irreducible, then $I$ is primary.\n",
    "- Deduce from this and stuff above that every proper ideal $I \\subset R$ in a Noetherian ring has an\n",
    "  irredundant primary decomposition.\n"
   ]
  },
  {
   "cell_type": "markdown",
   "id": "e1180c17-3602-4e51-9739-930944844955",
   "metadata": {},
   "source": [
    "### What about uniqueness?  Associated and minimal primes."
   ]
  },
  {
   "cell_type": "markdown",
   "id": "68913d7d-f8fb-473f-aa0d-c7cb5a5a973d",
   "metadata": {},
   "source": [
    "Here is an important pair of lemmas about the relationship of primary ideals and primary decompositions, and ideal \n",
    "quotients and saturations.  I will leave these as (good!) exercises for you to do."
   ]
  },
  {
   "cell_type": "markdown",
   "id": "136fca0f-83af-4bde-82c9-86d7b20c13b8",
   "metadata": {},
   "source": [
    "Let $Q \\subset R$ be a $P$-primary ideal.  Let $f \\in R$.\n",
    "\n",
    "*Proposition/Exercise.*\n",
    "$$Q : f^\\infty = \\begin{cases}\n",
    "\\langle 1 \\rangle & \\mbox{if $f \\in P$} \\\\\n",
    "Q & \\mbox{if $f \\not\\in P$}\n",
    "\\end{cases}\n",
    "$$\n",
    "\n",
    "*Proposition/Exercise.*\n",
    "$$Q : f = \\begin{cases}\n",
    "\\langle 1 \\rangle & \\mbox{if $f \\in Q$} \\\\\n",
    "\\mbox{$P$-primary} & \\mbox{if $f \\in P$, but $f \\not\\in Q$} \\\\\n",
    "Q & \\mbox{if $f \\not\\in P$}.\n",
    "\\end{cases}\n",
    "$$"
   ]
  },
  {
   "cell_type": "markdown",
   "id": "891a4ca2-a513-492a-b4a9-d3f8800f75ed",
   "metadata": {},
   "source": [
    "Suppose we are given two (irredundant) primary decompositions:\n",
    "$$I = Q_1 \\cap \\cdots \\cap Q_r = Q'_1 \\cap \\cdots Q'_s,$$\n",
    "where $Q_i$ is $P_i$-primary, and $Q'_i$ is $P'_i$-primary.\n",
    "\n",
    "What can we say about the $r$, $s$? do the same primes occur? do the same primaries occur?\n",
    "\n",
    "*Definition*. Let $R$ be a Noetherian ring, and $I \\subseteq R$ a proper ideal. Then\n",
    "- $P$ is a **minimal prime** of $I$ if $I \\subseteq P$, and if $I \\subseteq P' \\subseteq P$\n",
    "  for another prime ideal $P'$, then $P' = P$.\n",
    "- A *prime* ideal $P$ is an **associated prime** of $I$ if there exists $f \\in R$ such that\n",
    "  $P = (I : f)$.\n",
    "\n",
    "*Exercise.* Show that the set of associated primes of $I$ is $\\{ P_1, \\ldots, P_r\\}$.  Consequently,\n",
    "$r=s$, and $\\{P_1, \\ldots, P_r\\} = \\{ P'_1, \\ldots, P'_s \\}$.\n",
    "\n",
    "*Exercise.* Show that the minimal (under inclusion) elements of the set of associated primes is the\n",
    "set of minimal primes defined above.\n",
    "\n",
    "Each associated prime is either **minimal** or **embedded** (that is, not minimal).\n",
    "\n",
    "*Exercise* Use these results to determine what aspects of a $PD$ are unique.  Be mindful of the\n",
    "following example!\n",
    "\n",
    "$\\langle x^2, xy \\rangle = \\langle x \\rangle \\cap \\langle x^2, y \\rangle = \n",
    "\\langle x \\rangle \\cap \\langle x^2, xy, y^m\\rangle$, for any $m$!\n",
    "\n",
    "For instance, given a PD $I = Q_1 \\cap \\cdots \\cap Q_m$, where $Q_i$ is $P_i$-primary.\n",
    "are the following unique?\n",
    "\n",
    "- The set of primes $P$ from a $PD$.\n",
    "- The minimal set of primes from a $PD$.\n",
    "- The primary ideal $Q$ corresponding to a minimal element of this set of primes.\n",
    "- The primary ideal $Q$ corresponding to an embedded prime (an *embedded prime* is any $P_i$ which is not minimal)."
   ]
  },
  {
   "cell_type": "markdown",
   "id": "e2235f73-9529-4af1-9830-74c015498076",
   "metadata": {},
   "source": [
    "### Example: Simplicial complexes and square-free monomial ideals"
   ]
  },
  {
   "cell_type": "markdown",
   "id": "3b814869-c7a6-40b5-b6f4-347028d48d49",
   "metadata": {},
   "source": [
    "*Definition.* An *(abstract) simplicial complex* $\\Delta$ on a vertex set $V$ is a set of subsets of $V$\n",
    "such that\n",
    "\n",
    "- For each $i \\in V$, $\\{ i\\} \\in \\Delta$.\n",
    "- If $\\tau \\subseteq \\sigma \\in \\Delta$, then $\\tau \\in \\Delta$.\n",
    "\n",
    "Here is some terminology about simplicial complexes.\n",
    "\n",
    "- Every element $\\sigma \\in \\Delta$ is called a **face** of $\\Delta$.\n",
    "- Every subset $\\tau \\not\\in \\Delta$ is called a **nonface** of $\\Delta$.\n",
    "- Just to be confusing: a **coface** of $\\Delta$ is a subset whose complement in $V$ is a face.\n",
    "\n",
    "For example, the boundary of the tetrahedron with vertices labeled $1,2,3,4$ is the simplicial complex\n",
    "$\\Delta$ with maximal faces in the set $\\{ \\{1,2,3\\}, \\{1,2,4\\}, \\{1,3,4\\}, \\{2,3,4\\} \\}$. Note that since any subset\n",
    "of a face is also a face, the maximal faces completely determine $\\Delta$.\n",
    "\n",
    "Note that if I choose a set of subsets of $V$, then this determines uniquely a simplicial complex: all subsets of all of these\n",
    "sets.  That is, a simplicial complex is uniquely determined by giving its maximal faces."
   ]
  },
  {
   "cell_type": "markdown",
   "id": "b672fa26-7e32-4dfc-aa6b-2996ff8d6be6",
   "metadata": {},
   "source": [
    "**The Stanley-Reisner ideal**\n",
    "\n",
    "Time to relate this to commutative algebra!\n",
    "\n",
    "*Definition.* Given a simplicial complex $\\Delta$ on a vertex set (say) $\\{ 1, 2, \\ldots, n \\}$, then \n",
    "define the Stanley-Reisner ideal $I_\\Delta \\subset \\mathbb{k}[x_1, \\ldots, x_n]$ to be the ideal generated\n",
    "by monomials $m_\\tau := \\Pi_{i \\in \\tau} x_i$ for each nonface $\\tau$ of $\\Delta$.\n",
    "\n",
    "For example, if $\\Delta$ is the simplicial complex with maximal faces $\\{1,2,3\\}, \\{1,4\\}, \\{2,4\\}, \\{3,4\\}$, \n",
    "whose nonfaces are $\\{1,2,4\\}, \\{1,3,4\\}, \\{2,3,4\\},$ and $\\{1,2,3,4\\}$,\n",
    "then $I_\\Delta = \\langle x_1 x_2 x_4, x_1 x_3 x_4, x_2 x_3 x_4 \\rangle$.\n",
    "$I_\\Delta$ is minimally generated by monomials corresponding to the minimal nonfaces of $\\Delta$."
   ]
  },
  {
   "cell_type": "markdown",
   "id": "0ea8e51a-55d4-48d4-a04e-342594c067e7",
   "metadata": {},
   "source": [
    "### A divide and conquer algorithm\n",
    "\n",
    "*Key Lemma*. (We did this in class) Let $I \\subset R$ be an ideal, and $f \\in R$ not be in $I$.\n",
    "  Suppose that $(I : f^\\infty) = (I : f^\\ell)$.\n",
    "  Then\n",
    "  $$I = (I : f^\\infty) \\cap (I + \\langle f^\\ell \\rangle).$$\n"
   ]
  },
  {
   "cell_type": "markdown",
   "id": "24be5a7f-51f7-48a1-901f-9fe76f693a4e",
   "metadata": {},
   "source": [
    "One can use the key lemma to compute a primary decomposition, if one can find elements $f$ which are\n",
    "zero divisors mod $I$.  However, this will often result in a highly redundant primary\n",
    "decomposition.\n",
    "\n",
    "Here is an example of this.  Note that in Macaulay2, `saturate(I, f)` refers to the saturation $(I : f^\\infty)$."
   ]
  },
  {
   "cell_type": "code",
   "execution_count": null,
   "id": "30170592-868c-429d-9483-7ef7d8585f14",
   "metadata": {},
   "outputs": [],
   "source": [
    "I = ideal(c^2-b*d,b^2-a*c)"
   ]
  },
  {
   "cell_type": "markdown",
   "id": "f779feba-fcef-424e-9f54-c73d00cc70bf",
   "metadata": {},
   "source": [
    "*Exercise*.  Using Macaulay2 to do intersections, ideal quotients, saturations, try to\n",
    "find a $PD$ of $I$.  Check your work.  Try this on your own before looking at the answer below!\n",
    "There are questions here: How to find good polynomials to split by?  How to know when you have a prime,\n",
    "or primary ideal?"
   ]
  },
  {
   "cell_type": "code",
   "execution_count": null,
   "id": "ab2d40f0-8248-4bd0-ac85-19f55898a8fb",
   "metadata": {},
   "outputs": [],
   "source": [
    "compsI = primaryDecomposition I"
   ]
  },
  {
   "cell_type": "code",
   "execution_count": null,
   "id": "75ba3305-4428-4918-9fef-f9c2864903db",
   "metadata": {},
   "outputs": [],
   "source": [
    "saturate(I, b) == (I : b)"
   ]
  },
  {
   "cell_type": "code",
   "execution_count": null,
   "id": "7c9b6af9-19dc-405f-b3c6-2ef805cf78e3",
   "metadata": {},
   "outputs": [],
   "source": [
    "I1 = I:b"
   ]
  },
  {
   "cell_type": "code",
   "execution_count": null,
   "id": "db52ed55-7327-4f6f-ad88-38e8328b4227",
   "metadata": {},
   "outputs": [],
   "source": [
    "I2 = trim(ideal(b) + I)"
   ]
  },
  {
   "cell_type": "code",
   "execution_count": null,
   "id": "6a80b69d-e58d-4b43-86ec-0b87c661f97a",
   "metadata": {},
   "outputs": [],
   "source": [
    "intersect(I1, I2) == I"
   ]
  },
  {
   "cell_type": "markdown",
   "id": "5da3e10a-3105-4ff1-837c-00d02a13c2fb",
   "metadata": {},
   "source": [
    "Now split $I_2$ using $f = a$ (Note that using $c$ would not split the ideal!)"
   ]
  },
  {
   "cell_type": "code",
   "execution_count": null,
   "id": "542a35f1-2320-4188-9251-7d4755df5634",
   "metadata": {},
   "outputs": [],
   "source": [
    "I21 = saturate(I2, a)"
   ]
  },
  {
   "cell_type": "code",
   "execution_count": null,
   "id": "02f6f415-df98-4b94-ac78-c06632564973",
   "metadata": {},
   "outputs": [],
   "source": [
    "I21 == I2 : a"
   ]
  },
  {
   "cell_type": "code",
   "execution_count": null,
   "id": "a97c699d-40fd-4d1e-ab3c-d3e832db668c",
   "metadata": {},
   "outputs": [],
   "source": [
    "I22 = trim(ideal(a) + I2)"
   ]
  },
  {
   "cell_type": "code",
   "execution_count": null,
   "id": "0809ab96-31c7-4729-a2ae-0bbf083d0551",
   "metadata": {},
   "outputs": [],
   "source": [
    "I == intersect(I1, I21, I22)"
   ]
  },
  {
   "cell_type": "markdown",
   "id": "3c46e1a7-3e3f-4159-aede-63840559a576",
   "metadata": {},
   "source": [
    "Note that $I_{22}$ is redundant!"
   ]
  },
  {
   "cell_type": "code",
   "execution_count": null,
   "id": "ed8cd582-5627-4f17-a012-2636b2d921a5",
   "metadata": {},
   "outputs": [],
   "source": [
    "I == intersect(I1, I21)"
   ]
  },
  {
   "cell_type": "markdown",
   "id": "f4efdf62-dc26-42f6-aeab-9758a1c8b75e",
   "metadata": {},
   "source": [
    "## Special case: Zero-dimensional ideals"
   ]
  },
  {
   "cell_type": "markdown",
   "id": "3342a7da-1826-4fac-b482-3c26668a1bec",
   "metadata": {},
   "source": [
    "Suppose that $I \\subset R = \\mathbb{k}[x_1, \\ldots, x_n]$ is a *zero-dimensional* ideal, that is,\n",
    "$R/I$ is a finite dimensional vector space over $\\mathbb{k}$.\n",
    "\n",
    "Geometrically, this means that the zero set of $I$, $X = \\mathbb{V}(I) \\subset \\mathbb{A}^n$ is a set of points.\n",
    "The question: how do we find these points?"
   ]
  },
  {
   "cell_type": "code",
   "execution_count": null,
   "id": "c994273e-7bd5-4253-b6ca-ae0db50ec05f",
   "metadata": {},
   "outputs": [],
   "source": [
    "R = QQ[x,y,z]"
   ]
  },
  {
   "cell_type": "code",
   "execution_count": null,
   "id": "cc14caa6-6cd9-4a3f-86b7-6e41dc8ebad8",
   "metadata": {},
   "outputs": [],
   "source": [
    "I = ideal(x+y+z, x*y + y*z + z*x, x*y*z-1)"
   ]
  },
  {
   "cell_type": "code",
   "execution_count": null,
   "id": "1f0b442f-03c8-4bda-b5ce-29f97bf8ffd8",
   "metadata": {},
   "outputs": [],
   "source": [
    "dim I, degree I"
   ]
  },
  {
   "cell_type": "code",
   "execution_count": null,
   "id": "849e15f0-e8c7-4d1a-9bf1-634143e22538",
   "metadata": {},
   "outputs": [],
   "source": [
    "I"
   ]
  },
  {
   "cell_type": "raw",
   "id": "c4843e40-1561-460d-8a7f-8e7c5cf35735",
   "metadata": {},
   "source": [
    "(dim I, degree I)"
   ]
  },
  {
   "cell_type": "code",
   "execution_count": null,
   "id": "8447e5e1-2fcc-4b21-a8aa-cb88f4e5d43b",
   "metadata": {},
   "outputs": [],
   "source": [
    "R = QQ[x_1..x_5]"
   ]
  },
  {
   "cell_type": "code",
   "execution_count": null,
   "id": "d76a5487-1785-437d-8daf-f8f164a4eb41",
   "metadata": {},
   "outputs": [],
   "source": [
    "I = ideal(x_1 + x_2 + x_3 + x_4 + x_5, \n",
    "  x_1*x_2 + x_2*x_3 + x_3*x_4 + x_4*x_5 + x_5*x_1,\n",
    "  x_1*x_2*x_3 + x_2*x_3*x_4 + x_3*x_4*x_5 + x_4*x_5*x_1 + x_5*x_1*x_2,\n",
    "  x_1*x_2*x_3*x_4 + x_2*x_3*x_4*x_5 + x_3*x_4*x_5*x_1 + x_4*x_5*x_1*x_2 + x_5*x_1*x_2*x_3,\n",
    "  x_1*x_2*x_3*x_4*x_5 - 1\n",
    ")"
   ]
  },
  {
   "cell_type": "code",
   "execution_count": null,
   "id": "f961e60e-a339-49fb-ae3e-163bba8a9ef0",
   "metadata": {},
   "outputs": [],
   "source": [
    "groebnerBasis I;"
   ]
  },
  {
   "cell_type": "code",
   "execution_count": null,
   "id": "e910f637-ec90-48c7-b8c2-f2490e7a71a2",
   "metadata": {},
   "outputs": [],
   "source": [
    "codim I, degree I"
   ]
  },
  {
   "cell_type": "code",
   "execution_count": null,
   "id": "50adeda1-def4-4b78-ae96-70ad0aa0103f",
   "metadata": {},
   "outputs": [],
   "source": [
    "numcols basis(R^1/I)"
   ]
  },
  {
   "cell_type": "code",
   "execution_count": null,
   "id": "e017c589-60b2-40df-b87d-6f31d315a5e8",
   "metadata": {},
   "outputs": [],
   "source": [
    "eliminate(I, {x_2,x_3,x_4,x_5})"
   ]
  },
  {
   "cell_type": "code",
   "execution_count": null,
   "id": "b333d8a4-08ea-4844-8d41-9f2e744614a8",
   "metadata": {},
   "outputs": [],
   "source": [
    "f1 = oo_0"
   ]
  },
  {
   "cell_type": "code",
   "execution_count": null,
   "id": "024738dd-316f-4120-9ea0-b389ad961daf",
   "metadata": {},
   "outputs": [],
   "source": [
    "factor f1"
   ]
  },
  {
   "cell_type": "code",
   "execution_count": null,
   "id": "3448d5b6-68ef-4026-81f9-5b56b81b7621",
   "metadata": {},
   "outputs": [],
   "source": [
    "radical I"
   ]
  },
  {
   "cell_type": "code",
   "execution_count": null,
   "id": "94188e8b-1c55-4699-8940-85c2ad40d5fd",
   "metadata": {},
   "outputs": [],
   "source": [
    "compsI = primaryDecomposition I;"
   ]
  },
  {
   "cell_type": "code",
   "execution_count": null,
   "id": "45e43b7d-a3f5-4103-ac96-df3f0fa11145",
   "metadata": {},
   "outputs": [],
   "source": [
    "#compsI"
   ]
  },
  {
   "cell_type": "code",
   "execution_count": null,
   "id": "bab27fcf-5dd7-4fed-8a36-fcabd717a363",
   "metadata": {},
   "outputs": [],
   "source": [
    "compsI/dim"
   ]
  },
  {
   "cell_type": "code",
   "execution_count": null,
   "id": "cb4db54b-2234-407d-8ee9-97c88ac1fe6a",
   "metadata": {},
   "outputs": [],
   "source": [
    "compsI/degree"
   ]
  },
  {
   "cell_type": "code",
   "execution_count": null,
   "id": "3ef14f64-ac3d-4730-9c09-d8309a449dad",
   "metadata": {},
   "outputs": [],
   "source": [
    "sum oo"
   ]
  },
  {
   "cell_type": "code",
   "execution_count": null,
   "id": "c0985a4f-ee35-4e9b-83f2-56f348a4fa0f",
   "metadata": {},
   "outputs": [],
   "source": [
    "radical I == I"
   ]
  },
  {
   "cell_type": "code",
   "execution_count": null,
   "id": "d8536e96-d167-4c23-9268-6ed20264e217",
   "metadata": {},
   "outputs": [],
   "source": [
    "Rlex = (coefficientRing R)[gens R, MonomialOrder => Lex];\n",
    "Ilex = sub(I, Rlex);\n",
    "matrix transpose gens gb Ilex"
   ]
  },
  {
   "cell_type": "code",
   "execution_count": null,
   "id": "73541935-1fe1-4321-bc26-6aa6a8ecb946",
   "metadata": {},
   "outputs": [],
   "source": [
    "netList compsI"
   ]
  },
  {
   "cell_type": "code",
   "execution_count": null,
   "id": "0a330e5b-5c1e-44e7-be7e-49910aa83508",
   "metadata": {},
   "outputs": [],
   "source": [
    "#compsI"
   ]
  },
  {
   "cell_type": "code",
   "execution_count": null,
   "id": "9bf9291f-9cc9-4720-84d7-2ddd9f8b35d6",
   "metadata": {},
   "outputs": [],
   "source": [
    "compsI_0"
   ]
  },
  {
   "cell_type": "code",
   "execution_count": null,
   "id": "cdfc4a5b-9900-4d88-8dd1-f81d7f31507c",
   "metadata": {},
   "outputs": [],
   "source": [
    "I == intersect compsI"
   ]
  },
  {
   "cell_type": "code",
   "execution_count": null,
   "id": "589b2a99-69ca-450a-8685-5725cef5e63f",
   "metadata": {},
   "outputs": [],
   "source": [
    "compsI/isPrime"
   ]
  },
  {
   "cell_type": "code",
   "execution_count": null,
   "id": "8c1a7b93-2cc6-4e05-82ea-8d30e87ac62e",
   "metadata": {
    "scrolled": true
   },
   "outputs": [],
   "source": [
    "needsPackage \"NumericalAlgebraicGeometry\""
   ]
  },
  {
   "cell_type": "code",
   "execution_count": null,
   "id": "b47cf22f-f92a-49c8-88fe-680e81e484b1",
   "metadata": {},
   "outputs": [],
   "source": [
    "solveSystem I_*"
   ]
  },
  {
   "cell_type": "code",
   "execution_count": null,
   "id": "2a4b8d09-d300-4f74-8f79-2ef0c6645363",
   "metadata": {},
   "outputs": [],
   "source": [
    "oo/coordinates//matrix"
   ]
  },
  {
   "cell_type": "code",
   "execution_count": null,
   "id": "9d0faf12-e4c8-4781-8f69-36821970b18f",
   "metadata": {},
   "outputs": [],
   "source": [
    "clean(1e-10, oo)"
   ]
  },
  {
   "cell_type": "code",
   "execution_count": null,
   "id": "172f60a0-9e17-44c8-920d-c77afaf1379a",
   "metadata": {},
   "outputs": [],
   "source": [
    "compsI/degree"
   ]
  },
  {
   "cell_type": "markdown",
   "id": "177dac1d-e876-42d7-8de3-5fdf121c30f3",
   "metadata": {},
   "source": [
    "Let's add in a new variable, and make it linear in terms of the others (not homogeneous though)."
   ]
  },
  {
   "cell_type": "code",
   "execution_count": null,
   "id": "1e07bca0-37b3-498e-a928-dd89a828296f",
   "metadata": {},
   "outputs": [],
   "source": [
    "Rt = QQ[x_1..x_5,t,MonomialOrder => Lex]"
   ]
  },
  {
   "cell_type": "code",
   "execution_count": null,
   "id": "a4e61e9b-c998-4e7e-a536-21a76928d028",
   "metadata": {},
   "outputs": [],
   "source": [
    "I = sub(I, Rt)"
   ]
  },
  {
   "cell_type": "code",
   "execution_count": null,
   "id": "a11cba57-9042-49b9-9813-930807a7d00b",
   "metadata": {},
   "outputs": [],
   "source": [
    "gens gb I;"
   ]
  },
  {
   "cell_type": "code",
   "execution_count": null,
   "id": "c2fb69af-6484-4949-8be0-9a9ab0485631",
   "metadata": {},
   "outputs": [],
   "source": [
    "ideal oo"
   ]
  },
  {
   "cell_type": "code",
   "execution_count": null,
   "id": "ff3d0472-dac2-40f5-9f82-500a1d39f0f8",
   "metadata": {},
   "outputs": [],
   "source": [
    "matrix entries transpose gens oo"
   ]
  },
  {
   "cell_type": "code",
   "execution_count": null,
   "id": "b3189e84-445c-4a3e-9a8b-642810d3d7b2",
   "metadata": {},
   "outputs": [],
   "source": [
    "It = I + ideal(t-x_1-2*x_2-3*x_3-4*x_4+7*x_5)"
   ]
  },
  {
   "cell_type": "code",
   "execution_count": null,
   "id": "0ab76345-49bc-46c1-b7df-da35111fa7cd",
   "metadata": {},
   "outputs": [],
   "source": [
    "gbIt = ideal gens gb It;"
   ]
  },
  {
   "cell_type": "code",
   "execution_count": null,
   "id": "702280c9-1549-4eb5-a29d-768e4fd65008",
   "metadata": {},
   "outputs": [],
   "source": [
    "netList gbIt_*; -- bit large...\n",
    "gbIt_0"
   ]
  },
  {
   "cell_type": "code",
   "execution_count": null,
   "id": "f59a7075-d98e-4297-a753-fa0e65c5d926",
   "metadata": {},
   "outputs": [],
   "source": [
    "fact = factor gbIt_0"
   ]
  },
  {
   "cell_type": "code",
   "execution_count": null,
   "id": "1b8c65cc-971a-44fa-8a21-b93ce7663011",
   "metadata": {},
   "outputs": [],
   "source": [
    "facs = fact//toList/toList"
   ]
  },
  {
   "cell_type": "code",
   "execution_count": null,
   "id": "60cf5005-682a-4151-b1b0-d152474cf6ba",
   "metadata": {},
   "outputs": [],
   "source": [
    "for s in facs list trim(It + ideal(s_0));\n"
   ]
  },
  {
   "cell_type": "code",
   "execution_count": null,
   "id": "0e004dfd-33ad-46c2-8e55-13a50b454535",
   "metadata": {},
   "outputs": [],
   "source": [
    "compsI' = for J in oo list sub(eliminate(J, t), ring I)"
   ]
  },
  {
   "cell_type": "code",
   "execution_count": null,
   "id": "be50bec6-c0b0-4540-86f8-4aed4a597c08",
   "metadata": {},
   "outputs": [],
   "source": [
    "for J in compsI' list isPrime J"
   ]
  },
  {
   "cell_type": "code",
   "execution_count": null,
   "id": "b0f2dfca-6bae-427a-8f51-17e5910507b7",
   "metadata": {},
   "outputs": [],
   "source": [
    "intersect compsI' == I"
   ]
  },
  {
   "cell_type": "markdown",
   "id": "4d09dfa1-b057-42fa-9313-053cacae6531",
   "metadata": {},
   "source": [
    "### Facts about zero-dimensional ideals"
   ]
  },
  {
   "cell_type": "markdown",
   "id": "26327110-def0-4fed-9040-0eb65b3b8cb5",
   "metadata": {},
   "source": [
    "Suppose that $I$ is a radical zero-dimensional ideal.\n",
    "\n",
    "*Exercises*\n",
    "1. (Shape Lemma) If the $x_n$ components of the zeros of $I$ are all distinct,\n",
    "   and there are $d$ such points, then the reduced\n",
    "   Groebner basis of $I$ with respect to the lexicographic with $x_1 > x_2 > \\cdots > x_n$\n",
    "   has the form:\n",
    "   $$\n",
    "   \\left(\n",
    "   \\begin{array}{c}\n",
    "   x_1 - f_1(x_n) \\\\\n",
    "   x_2 - f_2(x_n) \\\\\n",
    "   \\vdots \\\\\n",
    "   x_{n-1} - f_{n-1}(x_n) \\\\\n",
    "   f_n(x_n)\n",
    "   \\end{array}\n",
    "   \\right),\n",
    "   $$\n",
    "   where the degree of $f_n$ is $d$, and the degree of $f_i$ is $<d$, for all $i < n$."
   ]
  },
  {
   "cell_type": "code",
   "execution_count": null,
   "id": "51b0b760-b2b8-40b5-9cb3-ee7c8112ed11",
   "metadata": {},
   "outputs": [],
   "source": []
  }
 ],
 "metadata": {
  "kernelspec": {
   "display_name": "M2",
   "language": "text/x-macaulay2",
   "name": "m2"
  },
  "language_info": {
   "codemirror_mode": "macaulay2",
   "file_extension": ".m2",
   "mimetype": "text/x-macaulay2",
   "name": "Macaulay2"
  }
 },
 "nbformat": 4,
 "nbformat_minor": 5
}
