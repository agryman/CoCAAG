{
 "cells": [
  {
   "cell_type": "markdown",
   "id": "ab9d0577-a0e3-49a3-9654-ec587c65fd0b",
   "metadata": {},
   "source": [
    "# The Hodge diamond of a smooth projective variety"
   ]
  },
  {
   "cell_type": "markdown",
   "id": "a318595d-8858-4d9c-ad3d-3b1b055da86c",
   "metadata": {
    "editable": true,
    "slideshow": {
     "slide_type": ""
    },
    "tags": []
   },
   "source": [
    "Let $S = \\mathbb{k}[x_0, \\ldots, x_n]$ be the homogeneous coordinate ring\n",
    "of $\\mathbb{P}^n$.  Let $X \\subset \\mathbb{P}^n$ be a smooth projective variety,\n",
    "with homgeneous ideal $I \\subset S$.\n",
    "\n",
    "In this notebook, we discuss \n",
    "1. Computing the sheaf $\\Omega_X^p$  of $p$-forms on $X$\n",
    "2. Define the Hodge diamond of $X$, and some basic theorems about it.\n",
    "3. Try to find fast ways to compute this!\n",
    "\n",
    "While you read this, try to apply the methods (in Macaulay2) to (some of) the following cases:\n",
    "\n",
    "1. A surface given by a degree $d$ polynomial in $\\mathbb{P}^3$, for various $d$.\n",
    "2. A 3-fold given by a degree $d$ polynomial in $\\mathbb{P}^4$, for various $d$.\n",
    "3. A variety given by the $3 \\times 3$ minors of a $3 \\times 4$ matrix of random linear forms.\n"
   ]
  },
  {
   "cell_type": "markdown",
   "id": "9288f9cb-6e64-45a5-8608-88047631e4f8",
   "metadata": {
    "editable": true,
    "slideshow": {
     "slide_type": ""
    },
    "tags": []
   },
   "source": [
    "## The sheaf of 1-forms on $X$"
   ]
  },
  {
   "cell_type": "markdown",
   "id": "386ae215-7b65-4bc0-9c6d-cff5d0d8ddbe",
   "metadata": {},
   "source": [
    "A graded $S$-module representing the sheaf of 1-forms \n",
    "on a projective variety $X$ (with ideal $I \\subset S$)\n",
    "can be computed using the following two exact sequences.\n",
    "\n"
   ]
  },
  {
   "cell_type": "markdown",
   "id": "da0d1d68-3da0-4fa0-a673-742eaa3bb872",
   "metadata": {},
   "source": [
    "First we have the so-called Euler sequence:\n",
    "\n",
    "$$ 0 \\longrightarrow \\Omega^1_{\\mathbb{P}^n} \\longrightarrow \n",
    "  \\mathcal{O}_{\\mathbb{P^n}}(-1)^{n+1} \\longrightarrow \\mathcal{O}_{\\mathbb{P}^n} \\longrightarrow 0\n",
    "  $$\n",
    "\n",
    "In other words the sheaf of 1-forms on $\\mathbb{P}^n$ is the sheaf associated to the\n",
    "graded module which is the kernel of the map $S(-1)^{n+1} \\longrightarrow S$ given by the \n",
    "variables of $S$."
   ]
  },
  {
   "cell_type": "markdown",
   "id": "64f87160-eede-488e-9a25-a1576b6d90bb",
   "metadata": {},
   "source": [
    "Second, one can compute the sheaf of 1-forms of a subvariety\n",
    "$X \\subset \\mathbb{P}^n$ with ideal $I \\subset S$ using the\n",
    "following right exact sequence of $\\mathcal{O}_X$ modules.\n",
    "\n",
    "$$I/I^2 \n",
    "  \\longrightarrow \\Omega_{\\mathbb{P}^n}^1 \\otimes \\mathcal{O}_X \n",
    "  \\longrightarrow \\Omega_X^1 \n",
    "  \\longrightarrow 0\n",
    "$$\n",
    "\n",
    "The first map sends a polynomial $f \\in I$ to $df \\otimes 1$.\n",
    "\n",
    "*Note:* This sequence is exact on the left exactly when $X$ is a smooth variety."
   ]
  },
  {
   "cell_type": "markdown",
   "id": "b9ef1eee-1f78-4d61-850b-03b86d2ebbf5",
   "metadata": {},
   "source": [
    "**Computing this module**\n",
    "\n",
    "Suppose that $I = \\langle f_1, \\ldots, f_r \\rangle \\subset S$ is the ideal \n",
    "of a projective variety $X \\subset \\mathbb{P}^n$.  Let $F = \\bigoplus_{i=1}^r S(-\\deg f_i)$,\n",
    "and let $\\varphi : F \\longrightarrow I \\subset S$ be the matrix sending the $i$-th basis\n",
    "element to $f_i$.\n",
    "\n",
    "Let $R = S/I$ be the quotient ring.\n",
    "We have two $R$-maps of interest:\n",
    "1. The koszul map $d : R(-1)^{n+1} \\longrightarrow R$ which maps the $i$-th basis \n",
    "  element to the image of $x_i$ in $R$.\n",
    "2. The Jacobian map $jac: F \\otimes_S R \\longrightarrow R(-1)^{n+1}$\n",
    "  with matrix $(\\partial f_i/\\partial x_j)$.\n",
    "\n",
    "*Exercises* \n",
    "1. Show that $d \\circ jac = 0$\n",
    "2. Show that $M := \\ker(d) / \\operatorname{image}(jac)$ satisfies $\\widetilde{M} \\cong \\Omega_X^1$.\n",
    "3. This $M$ is a graded $R$-module, and hence also a graded $S$-module.\n",
    "  Show how to compute an $S$-presentation of $M$.\n",
    "4. Find this presentation for some of the example varieties mentioned above.\n",
    " "
   ]
  },
  {
   "cell_type": "markdown",
   "id": "3e8d950b-2d76-4ff0-8709-d51832b8c41a",
   "metadata": {
    "editable": true,
    "slideshow": {
     "slide_type": ""
    },
    "tags": []
   },
   "source": [
    "### Example: sheaf of 1-forms of a hypersurface"
   ]
  },
  {
   "cell_type": "markdown",
   "id": "359124ad-4697-4b3c-9341-25e7515cb1e0",
   "metadata": {},
   "source": [
    "Let's consider hypersurfaces in $\\mathbb{P}^3$.  Let's get a feel for\n",
    "what the module constructed here looks like, and how we might improve it."
   ]
  },
  {
   "cell_type": "code",
   "execution_count": null,
   "id": "b21c2b6e-8f81-432a-a728-20030d4296da",
   "metadata": {},
   "outputs": [],
   "source": [
    "S = ZZ/101[x_0..x_3];"
   ]
  },
  {
   "cell_type": "code",
   "execution_count": null,
   "id": "b670b1d4-835f-423e-9765-b82965b155ca",
   "metadata": {},
   "outputs": [],
   "source": [
    "I = ideal random(2, S)"
   ]
  },
  {
   "cell_type": "code",
   "execution_count": null,
   "id": "5b7c3115-a899-4c17-b2cb-82544a4783e5",
   "metadata": {},
   "outputs": [],
   "source": [
    "jac = jacobian I"
   ]
  },
  {
   "cell_type": "code",
   "execution_count": null,
   "id": "b2abfd66-b18e-4ae3-92f0-4f00329b0c40",
   "metadata": {},
   "outputs": [],
   "source": [
    "vars S"
   ]
  },
  {
   "cell_type": "code",
   "execution_count": null,
   "id": "2e56c57c-58ec-49f9-823e-28d2d4e52bf3",
   "metadata": {},
   "outputs": [],
   "source": [
    "R = S/I"
   ]
  },
  {
   "cell_type": "code",
   "execution_count": null,
   "id": "763600fe-73d4-4d2b-89f0-8dceb9aba9a2",
   "metadata": {},
   "outputs": [],
   "source": [
    "ker (vars R)"
   ]
  },
  {
   "cell_type": "code",
   "execution_count": null,
   "id": "7db45aaa-bd70-45b0-a346-e7cc363e8078",
   "metadata": {},
   "outputs": [],
   "source": [
    "jacobian I % oo"
   ]
  },
  {
   "cell_type": "code",
   "execution_count": null,
   "id": "d5bca068-5038-42e6-83c9-3771d3b7a75a",
   "metadata": {},
   "outputs": [],
   "source": [
    "f = modulo((syz vars S)**R, (jacobian I)**R)"
   ]
  },
  {
   "cell_type": "code",
   "execution_count": null,
   "id": "32790b31-b2e6-466d-8cc4-7e3a097a84c1",
   "metadata": {},
   "outputs": [],
   "source": [
    "fS = lift(f, S)"
   ]
  },
  {
   "cell_type": "code",
   "execution_count": null,
   "id": "481efad0-ba2b-4e96-b86b-71d3bf8ba651",
   "metadata": {},
   "outputs": [],
   "source": [
    "M = coker fS"
   ]
  },
  {
   "cell_type": "code",
   "execution_count": null,
   "id": "483c8849-af68-4e04-a707-d4db4c5c61ce",
   "metadata": {},
   "outputs": [],
   "source": [
    "ann M == I"
   ]
  },
  {
   "cell_type": "code",
   "execution_count": null,
   "id": "f6235445-465f-41b3-9b16-84e1116e2f08",
   "metadata": {},
   "outputs": [],
   "source": [
    "betti res M"
   ]
  },
  {
   "cell_type": "code",
   "execution_count": null,
   "id": "2596932c-e18c-4ee8-9550-19f12a9c4a30",
   "metadata": {},
   "outputs": [],
   "source": [
    "S = QQ[x_0..x_4];"
   ]
  },
  {
   "cell_type": "code",
   "execution_count": null,
   "id": "0cf2f35d-94a4-424b-9bbc-416d20d72c86",
   "metadata": {},
   "outputs": [],
   "source": [
    "I = ideal(x_0^5 + x_1^5 + x_2^5 + x_3^5 + x_4^5 - x_0*x_1*x_2*x_3*x_4);"
   ]
  },
  {
   "cell_type": "code",
   "execution_count": null,
   "id": "e9845b9a-f75a-4ba2-8927-6361b361432a",
   "metadata": {},
   "outputs": [],
   "source": [
    "R = S/I;"
   ]
  },
  {
   "cell_type": "code",
   "execution_count": null,
   "id": "703bbab8-c914-4803-beb7-1ec4ccedf2fd",
   "metadata": {},
   "outputs": [],
   "source": [
    "d = (vars S) ** R"
   ]
  },
  {
   "cell_type": "code",
   "execution_count": null,
   "id": "b7387993-6e82-486d-aad3-8361001dccbf",
   "metadata": {},
   "outputs": [],
   "source": [
    "jac = (jacobian I) ** R"
   ]
  },
  {
   "cell_type": "code",
   "execution_count": null,
   "id": "59820764-48fe-476d-9e32-555dbea03d27",
   "metadata": {},
   "outputs": [],
   "source": [
    "d * jac"
   ]
  },
  {
   "cell_type": "code",
   "execution_count": null,
   "id": "53f990d7-db81-4a8b-a315-06ae051ad6ac",
   "metadata": {},
   "outputs": [],
   "source": [
    "m = presentation ((kernel d)/(image jac))"
   ]
  },
  {
   "cell_type": "code",
   "execution_count": null,
   "id": "79e5b293-ed40-40e8-9959-5f5605408661",
   "metadata": {},
   "outputs": [],
   "source": [
    "image((syz vars S)**R) + image jac == kernel d"
   ]
  },
  {
   "cell_type": "code",
   "execution_count": null,
   "id": "9885c2e7-605b-452b-875c-f1876e06d78c",
   "metadata": {},
   "outputs": [],
   "source": [
    "mS = lift(m, S);\n",
    "M = prune coker mS"
   ]
  },
  {
   "cell_type": "code",
   "execution_count": null,
   "id": "22404a8d-5bf4-40e6-9eef-6fa813ddf0e3",
   "metadata": {},
   "outputs": [],
   "source": [
    "ann M == I"
   ]
  },
  {
   "cell_type": "code",
   "execution_count": null,
   "id": "333f6432-831d-4ec3-965a-118cde515d7d",
   "metadata": {},
   "outputs": [],
   "source": [
    "betti res M"
   ]
  },
  {
   "cell_type": "markdown",
   "id": "c67fa66f-8b57-40f5-9c3e-d595844a2ccd",
   "metadata": {},
   "source": [
    "Here are some other things one can look at.  From this, what\n",
    "is the cohomology of the sheaf $\\Omega^1_X$?\n",
    "```\n",
    "Ext^0(M, S^{-5})\n",
    "E1 = Ext^1(M, S^{-5})\n",
    "E2 = Ext^2(M, S^{-5})\n",
    "E3 = Ext^3(M, S^{-5})\n",
    "hilbertFunction(0, E1)\n",
    "hilbertFunction(0, E2)\n",
    "hilbertFunction(0, E3)\n",
    "```"
   ]
  },
  {
   "cell_type": "code",
   "execution_count": null,
   "id": "a1421831-f3a0-41c6-8974-f4746b97f478",
   "metadata": {},
   "outputs": [],
   "source": [
    "mS = lift(m, S)"
   ]
  },
  {
   "cell_type": "code",
   "execution_count": null,
   "id": "acd06c3f-a400-4419-aa6f-3db92bd84d28",
   "metadata": {},
   "outputs": [],
   "source": [
    "betti res coker mS"
   ]
  },
  {
   "cell_type": "code",
   "execution_count": null,
   "id": "6fabf455-b21f-4f2a-887c-eec03c7263bb",
   "metadata": {},
   "outputs": [],
   "source": [
    "numgens S"
   ]
  },
  {
   "cell_type": "code",
   "execution_count": null,
   "id": "7b64e2d5-a52d-4830-9531-91ab97287063",
   "metadata": {},
   "outputs": [],
   "source": [
    "C = res coker mS"
   ]
  },
  {
   "cell_type": "code",
   "execution_count": null,
   "id": "5b51977c-7fe1-4dc9-a582-07b3fa46c043",
   "metadata": {},
   "outputs": [],
   "source": [
    "Mpurified = HH^0((sheaf coker mS)(>=0))"
   ]
  },
  {
   "cell_type": "code",
   "execution_count": null,
   "id": "46a7e65d-ef51-4c69-822d-301f2148d9bf",
   "metadata": {},
   "outputs": [],
   "source": [
    "betti res M"
   ]
  },
  {
   "cell_type": "code",
   "execution_count": null,
   "id": "1642b2fa-d646-4f8c-9455-40b9c7ede801",
   "metadata": {},
   "outputs": [],
   "source": [
    "betti res Mpurified -- same as M, not always the case!"
   ]
  },
  {
   "cell_type": "markdown",
   "id": "477bdaa9-fd18-4457-8b38-b977de3f433d",
   "metadata": {},
   "source": [
    "Let's check to see if $X$ is smooth."
   ]
  },
  {
   "cell_type": "code",
   "execution_count": null,
   "id": "74f419c7-e29b-4b0f-a261-e1faa833deff",
   "metadata": {},
   "outputs": [],
   "source": [
    "singX = ideal jacobian I"
   ]
  },
  {
   "cell_type": "code",
   "execution_count": null,
   "id": "19ae2e86-7240-4d90-9250-4a591fdf038e",
   "metadata": {},
   "outputs": [],
   "source": [
    "R = S/I"
   ]
  },
  {
   "cell_type": "code",
   "execution_count": null,
   "id": "1cb1bee9-2e76-4d15-ae5f-dccc81c69913",
   "metadata": {},
   "outputs": [],
   "source": [
    "codim singX == 5 -- so it is smooth"
   ]
  },
  {
   "cell_type": "markdown",
   "id": "d9e5ece1-58df-4d93-a363-e98a15488fea",
   "metadata": {},
   "source": [
    "## The sheaf $\\Omega^p_X$ of $p$-forms on $X$"
   ]
  },
  {
   "cell_type": "markdown",
   "id": "8db8960a-df89-4ca1-892b-731379f2dd42",
   "metadata": {},
   "source": [
    "Since $\\Omega^p_X = \\Lambda^p \\Omega_X^1$, once we have a module $M$ which represents\n",
    "$\\Omega_X^1$, we need only compute $\\Lambda^p M$."
   ]
  },
  {
   "cell_type": "markdown",
   "id": "a5a201e0-ac4d-47e5-9a36-cb7df7459772",
   "metadata": {},
   "source": [
    "### Example: sheaf of $p$-forms of a hypersurface"
   ]
  },
  {
   "cell_type": "code",
   "execution_count": null,
   "id": "353a38c3-4f5d-485d-abf9-69b4f18d8fef",
   "metadata": {},
   "outputs": [],
   "source": [
    "M2 = exteriorPower(2, M);\n",
    "betti res M2"
   ]
  },
  {
   "cell_type": "code",
   "execution_count": null,
   "id": "283537e2-a45f-45ac-9f59-d9b10cef86c8",
   "metadata": {},
   "outputs": [],
   "source": [
    "M2purified = HH^0((sheaf M2)(>=0))"
   ]
  },
  {
   "cell_type": "code",
   "execution_count": null,
   "id": "40843a65-665e-44bb-83d9-103c41462f71",
   "metadata": {},
   "outputs": [],
   "source": [
    "betti res M2purified"
   ]
  },
  {
   "cell_type": "code",
   "execution_count": null,
   "id": "1616eaf6-6631-4a5f-869a-3ce6a4e0dc34",
   "metadata": {},
   "outputs": [],
   "source": [
    "HH^1(sheaf M2)"
   ]
  },
  {
   "cell_type": "code",
   "execution_count": null,
   "id": "33d3dbf8-e9fb-4e75-899c-bfab2b13b2a2",
   "metadata": {},
   "outputs": [],
   "source": [
    "hilbertFunction(0, Ext^3(M2, S^{-5}))"
   ]
  },
  {
   "cell_type": "code",
   "execution_count": null,
   "id": "5fc3cd0f-046d-4bf7-a874-5c4db28759a0",
   "metadata": {},
   "outputs": [],
   "source": [
    "hilbertFunction(0, Ext^2(M2, S^{-5}))"
   ]
  },
  {
   "cell_type": "markdown",
   "id": "8dc451f9-1bfd-4d30-96c2-43024cd894fd",
   "metadata": {},
   "source": [
    "## Hodge diamond"
   ]
  },
  {
   "cell_type": "markdown",
   "id": "ab2c347d-ab11-420a-8e9a-42a8d4baf334",
   "metadata": {},
   "source": [
    "The Hodge diamond of a smooth projective variety $X$ of dimension $d$\n",
    "is the matrix of numbers $h^{p,q}(X) := h^q(\\Omega_X^p)$.  \n",
    "Usually it is written as a diamond.\n",
    "Here we will write it as a matrix of integers...  \n",
    "Writing a Macaulay2 function which displays it as a diamond\n",
    "of numbers would be a good exercise in writing Macaulay2 code!\n",
    "$$\\begin{pmatrix}\n",
    "h^{0,0}(X) & h^{0,1}(X) & \\ldots & h^{0,d}(X) \\\\\n",
    "h^{1,0}(X) & h^{1,1}(X) & \\ldots & h^{1,d}(X) \\\\\n",
    "\\vdots & \\vdots & & \\vdots \\\\\n",
    "h^{d,0}(X) & h^{d,1}(X) & \\ldots & h^{d,d}(X) \\\\\n",
    "\\end{pmatrix}\n",
    "$$\n",
    "\n",
    "By definition, $\\Omega_X^0 = \\mathcal{O}_X$, so the first row of this matrix is the\n",
    "cohomology vector $$h^\\bullet(\\mathcal{O}_X) := (h^0(\\mathcal{O}_X), \n",
    "  h^1(\\mathcal{O}_X), \\ldots, h^d(\\mathcal{O}_X)).$$\n",
    "  Similarly, the next rows are $h^\\bullet(\\Omega^1_X), \\ldots, h^\\bullet(\\Omega^d_X)$."
   ]
  },
  {
   "cell_type": "markdown",
   "id": "28b472b0-741e-48fd-a850-e604307f0c22",
   "metadata": {},
   "source": [
    "Before examining this more closely, let's compute it for\n",
    "a quartic surface in 3-space, using built-in functionality in Macaulay2"
   ]
  },
  {
   "cell_type": "code",
   "execution_count": null,
   "id": "6b8cfb91-0683-4217-a82e-c55621e18831",
   "metadata": {},
   "outputs": [],
   "source": [
    "S = ZZ/32003[x_0..x_3];"
   ]
  },
  {
   "cell_type": "code",
   "execution_count": null,
   "id": "20e191fb-b7cc-403b-ae6c-4291849c2b27",
   "metadata": {},
   "outputs": [],
   "source": [
    "F = x_0^4 + x_1^4 + x_2^4 + x_3^4 + 5*x_0*x_1*x_2*x_3"
   ]
  },
  {
   "cell_type": "code",
   "execution_count": null,
   "id": "65806260-41d3-4625-be71-7042480a837f",
   "metadata": {},
   "outputs": [],
   "source": [
    "X = variety ideal F"
   ]
  },
  {
   "cell_type": "markdown",
   "id": "a510b6a4-7eff-4e5f-a6e6-d8208f90bf57",
   "metadata": {},
   "source": [
    "First, we check that this is a non-singular quartic."
   ]
  },
  {
   "cell_type": "code",
   "execution_count": null,
   "id": "4e84c55d-9b11-4b9f-ac7a-65e108f6bbd2",
   "metadata": {},
   "outputs": [],
   "source": [
    "singF = ideal jacobian F"
   ]
  },
  {
   "cell_type": "code",
   "execution_count": null,
   "id": "b4b5307e-e4a8-431c-95c0-a8884f6ef62d",
   "metadata": {},
   "outputs": [],
   "source": [
    "saturate singF"
   ]
  },
  {
   "cell_type": "markdown",
   "id": "5f147328-67d8-4bd1-8283-4bdd9710b0f7",
   "metadata": {},
   "source": [
    "There are no singular points, so yes, it is smooth.\n",
    "\n",
    "Alternatively, we could have just computed the codimension.  This does a simpler Groebner \n",
    "basis.  If the codimension is $n+1 = 4$, then it is non-singular."
   ]
  },
  {
   "cell_type": "code",
   "execution_count": null,
   "id": "a83da547-d2ec-4797-bb5a-e6b433decfaf",
   "metadata": {},
   "outputs": [],
   "source": [
    "codim singF == 4"
   ]
  },
  {
   "cell_type": "code",
   "execution_count": null,
   "id": "f68588e6-fd08-4ee4-adf7-ea00d0f035a9",
   "metadata": {},
   "outputs": [],
   "source": [
    "matrix for p from 0 to 2 list for q from 0 to 2 list rank HH^q(cotangentSheaf(p, X))"
   ]
  },
  {
   "cell_type": "markdown",
   "id": "b84f00cd-87f9-4551-b6c7-03de283c3637",
   "metadata": {},
   "source": [
    "Let's write down some important facts about these numbers.\n",
    "We suppose here that $X$ is a smooth projective variety of dimension $d$.\n",
    "\n",
    "1. Hodge theory: $h^{p,q}(X) = h^{q,p}(X)$.\n",
    "2. Serre duality: $h^{p,q}(X) = h^{d-p, d-q}(X)$.\n",
    "3. Hodge theory: $\\operatorname{rank} H^r(X, \\mathbb{Z}) = \\sum_{p+q = r} h^{p,q}(X)$.\n",
    "4. Basics: $h^{p,q}(X) = 0$ if $p < 0$, $q < 0$, $p > d$, or $q > d$."
   ]
  },
  {
   "cell_type": "markdown",
   "id": "39ed959a-cf8b-4fda-9dcc-cf6a5feaf1a0",
   "metadata": {},
   "source": [
    "*Exercises*\n",
    "\n",
    "1. Given a smooth projective surface $X$, or a smooth projective 3-fold, \n",
    "  find a smallest set of cohomologies that one needs to compute in order to know the\n",
    "  entire Hodge diamond.\n",
    "2. Using Euler characteristics, one can get by with even fewer cohomology computations.\n",
    "  What might be a good set?\n",
    "\n",
    "For this exercise, try computing the Hodge diamond \"by hand\" i.e. by computing a few \n",
    "cohomologies, Euler characteristics, etc, for the following cases.\n",
    "\n",
    "1. A surface given by a degree $d$ polynomial in $\\mathbb{P}^3$, for various $d$.\n",
    "2. A 3-fold given by a degree $d$ polynomial in $\\mathbb{P}^4$, for various $d$.\n",
    "3. A variety given by the $3 \\times 3$ minors of a $3 \\times 4$ matrix of random linear forms.\n"
   ]
  },
  {
   "cell_type": "markdown",
   "id": "a68e317e-b4c7-42ff-b516-5bfdb9dc55bf",
   "metadata": {},
   "source": [
    "-- Here is an example to get you started.\n",
    "```\n",
    "S = ZZ/32003[x_0..x_4];\n",
    "I = ideal random(5, S);\n",
    "M0 = S^1/I\n",
    "--M1 = cotangentModule(1, I) -- defined earlier in this notebook.  This gives the module as an $S$-module...\n",
    "--M2 = cotangentModule(2, I) -- exercise question: do we need this one?\n",
    "X = variety I\n",
    "HH^1(OO_X)\n",
    "HH^2(OO_X)\n",
    "Ext^1(S^1/I, S^{-5})\n",
    "hilbertFunction(0, Ext^1(S^1/I, S^{-5}))\n",
    "basis(0, Ext^1(S^1/I, S^{-5})\n",
    "```"
   ]
  },
  {
   "cell_type": "markdown",
   "id": "9b8eed7c-15c9-412d-85a4-f9d25286bee0",
   "metadata": {},
   "source": [
    "## Stop!!  Try these exercises before reading on!!"
   ]
  },
  {
   "cell_type": "code",
   "execution_count": null,
   "id": "8caaf3e9-18b8-4056-ba90-ac8b752d5854",
   "metadata": {},
   "outputs": [],
   "source": []
  },
  {
   "cell_type": "code",
   "execution_count": null,
   "id": "569539ad-a321-48e8-8176-29d949142d37",
   "metadata": {},
   "outputs": [],
   "source": []
  }
 ],
 "metadata": {
  "kernelspec": {
   "display_name": "M2",
   "language": "text/x-macaulay2",
   "name": "m2"
  },
  "language_info": {
   "codemirror_mode": "macaulay2",
   "file_extension": ".m2",
   "mimetype": "text/x-macaulay2",
   "name": "Macaulay2"
  }
 },
 "nbformat": 4,
 "nbformat_minor": 5
}
